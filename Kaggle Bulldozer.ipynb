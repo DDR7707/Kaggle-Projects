{
  "nbformat": 4,
  "nbformat_minor": 0,
  "metadata": {
    "colab": {
      "name": "Bulldozer Kaggle.ipynb",
      "provenance": [],
      "collapsed_sections": [],
      "authorship_tag": "ABX9TyP/Jr/KCTTlT/x9kOOicbjM",
      "include_colab_link": true
    },
    "kernelspec": {
      "name": "python3",
      "display_name": "Python 3"
    },
    "language_info": {
      "name": "python"
    }
  },
  "cells": [
    {
      "cell_type": "markdown",
      "metadata": {
        "id": "view-in-github",
        "colab_type": "text"
      },
      "source": [
        "<a href=\"https://colab.research.google.com/github/DDR7707/Kaggle-Projects/blob/main/Kaggle%20Bulldozer.ipynb\" target=\"_parent\"><img src=\"https://colab.research.google.com/assets/colab-badge.svg\" alt=\"Open In Colab\"/></a>"
      ]
    },
    {
      "cell_type": "code",
      "metadata": {
        "id": "cNedqMI7pIGJ"
      },
      "source": [
        "import numpy as np\n",
        "import pandas as pd\n",
        "import matplotlib.pyplot as plt\n",
        "import seaborn as sns\n",
        "import sklearn\n",
        "import warnings\n",
        "warnings.filterwarnings('ignore')"
      ],
      "execution_count": null,
      "outputs": []
    },
    {
      "cell_type": "code",
      "metadata": {
        "colab": {
          "base_uri": "https://localhost:8080/",
          "height": 349
        },
        "id": "3UoObW2-pjBg",
        "outputId": "a1ab52dc-2838-47e3-ccc1-522e16fd6508"
      },
      "source": [
        "df = pd.read_csv(\"TrainAndValid.csv\" , parse_dates = [\"saledate\"] , low_memory = False)\n",
        "df.head()"
      ],
      "execution_count": null,
      "outputs": [
        {
          "output_type": "execute_result",
          "data": {
            "text/html": [
              "<div>\n",
              "<style scoped>\n",
              "    .dataframe tbody tr th:only-of-type {\n",
              "        vertical-align: middle;\n",
              "    }\n",
              "\n",
              "    .dataframe tbody tr th {\n",
              "        vertical-align: top;\n",
              "    }\n",
              "\n",
              "    .dataframe thead th {\n",
              "        text-align: right;\n",
              "    }\n",
              "</style>\n",
              "<table border=\"1\" class=\"dataframe\">\n",
              "  <thead>\n",
              "    <tr style=\"text-align: right;\">\n",
              "      <th></th>\n",
              "      <th>SalesID</th>\n",
              "      <th>SalePrice</th>\n",
              "      <th>MachineID</th>\n",
              "      <th>ModelID</th>\n",
              "      <th>datasource</th>\n",
              "      <th>auctioneerID</th>\n",
              "      <th>YearMade</th>\n",
              "      <th>MachineHoursCurrentMeter</th>\n",
              "      <th>UsageBand</th>\n",
              "      <th>saledate</th>\n",
              "      <th>fiModelDesc</th>\n",
              "      <th>fiBaseModel</th>\n",
              "      <th>fiSecondaryDesc</th>\n",
              "      <th>fiModelSeries</th>\n",
              "      <th>fiModelDescriptor</th>\n",
              "      <th>ProductSize</th>\n",
              "      <th>fiProductClassDesc</th>\n",
              "      <th>state</th>\n",
              "      <th>ProductGroup</th>\n",
              "      <th>ProductGroupDesc</th>\n",
              "      <th>Drive_System</th>\n",
              "      <th>Enclosure</th>\n",
              "      <th>Forks</th>\n",
              "      <th>Pad_Type</th>\n",
              "      <th>Ride_Control</th>\n",
              "      <th>Stick</th>\n",
              "      <th>Transmission</th>\n",
              "      <th>Turbocharged</th>\n",
              "      <th>Blade_Extension</th>\n",
              "      <th>Blade_Width</th>\n",
              "      <th>Enclosure_Type</th>\n",
              "      <th>Engine_Horsepower</th>\n",
              "      <th>Hydraulics</th>\n",
              "      <th>Pushblock</th>\n",
              "      <th>Ripper</th>\n",
              "      <th>Scarifier</th>\n",
              "      <th>Tip_Control</th>\n",
              "      <th>Tire_Size</th>\n",
              "      <th>Coupler</th>\n",
              "      <th>Coupler_System</th>\n",
              "      <th>Grouser_Tracks</th>\n",
              "      <th>Hydraulics_Flow</th>\n",
              "      <th>Track_Type</th>\n",
              "      <th>Undercarriage_Pad_Width</th>\n",
              "      <th>Stick_Length</th>\n",
              "      <th>Thumb</th>\n",
              "      <th>Pattern_Changer</th>\n",
              "      <th>Grouser_Type</th>\n",
              "      <th>Backhoe_Mounting</th>\n",
              "      <th>Blade_Type</th>\n",
              "      <th>Travel_Controls</th>\n",
              "      <th>Differential_Type</th>\n",
              "      <th>Steering_Controls</th>\n",
              "    </tr>\n",
              "  </thead>\n",
              "  <tbody>\n",
              "    <tr>\n",
              "      <th>0</th>\n",
              "      <td>1139246</td>\n",
              "      <td>66000</td>\n",
              "      <td>999089</td>\n",
              "      <td>3157</td>\n",
              "      <td>121</td>\n",
              "      <td>3</td>\n",
              "      <td>2004</td>\n",
              "      <td>68.0</td>\n",
              "      <td>Low</td>\n",
              "      <td>2006-11-16</td>\n",
              "      <td>521D</td>\n",
              "      <td>521</td>\n",
              "      <td>D</td>\n",
              "      <td>NaN</td>\n",
              "      <td>NaN</td>\n",
              "      <td>NaN</td>\n",
              "      <td>Wheel Loader - 110.0 to 120.0 Horsepower</td>\n",
              "      <td>Alabama</td>\n",
              "      <td>WL</td>\n",
              "      <td>Wheel Loader</td>\n",
              "      <td>NaN</td>\n",
              "      <td>EROPS w AC</td>\n",
              "      <td>None or Unspecified</td>\n",
              "      <td>NaN</td>\n",
              "      <td>None or Unspecified</td>\n",
              "      <td>NaN</td>\n",
              "      <td>NaN</td>\n",
              "      <td>NaN</td>\n",
              "      <td>NaN</td>\n",
              "      <td>NaN</td>\n",
              "      <td>NaN</td>\n",
              "      <td>NaN</td>\n",
              "      <td>2 Valve</td>\n",
              "      <td>NaN</td>\n",
              "      <td>NaN</td>\n",
              "      <td>NaN</td>\n",
              "      <td>NaN</td>\n",
              "      <td>None or Unspecified</td>\n",
              "      <td>None or Unspecified</td>\n",
              "      <td>NaN</td>\n",
              "      <td>NaN</td>\n",
              "      <td>NaN</td>\n",
              "      <td>NaN</td>\n",
              "      <td>NaN</td>\n",
              "      <td>NaN</td>\n",
              "      <td>NaN</td>\n",
              "      <td>NaN</td>\n",
              "      <td>NaN</td>\n",
              "      <td>NaN</td>\n",
              "      <td>NaN</td>\n",
              "      <td>NaN</td>\n",
              "      <td>Standard</td>\n",
              "      <td>Conventional</td>\n",
              "    </tr>\n",
              "    <tr>\n",
              "      <th>1</th>\n",
              "      <td>1139248</td>\n",
              "      <td>57000</td>\n",
              "      <td>117657</td>\n",
              "      <td>77</td>\n",
              "      <td>121</td>\n",
              "      <td>3</td>\n",
              "      <td>1996</td>\n",
              "      <td>4640.0</td>\n",
              "      <td>Low</td>\n",
              "      <td>2004-03-26</td>\n",
              "      <td>950FII</td>\n",
              "      <td>950</td>\n",
              "      <td>F</td>\n",
              "      <td>II</td>\n",
              "      <td>NaN</td>\n",
              "      <td>Medium</td>\n",
              "      <td>Wheel Loader - 150.0 to 175.0 Horsepower</td>\n",
              "      <td>North Carolina</td>\n",
              "      <td>WL</td>\n",
              "      <td>Wheel Loader</td>\n",
              "      <td>NaN</td>\n",
              "      <td>EROPS w AC</td>\n",
              "      <td>None or Unspecified</td>\n",
              "      <td>NaN</td>\n",
              "      <td>None or Unspecified</td>\n",
              "      <td>NaN</td>\n",
              "      <td>NaN</td>\n",
              "      <td>NaN</td>\n",
              "      <td>NaN</td>\n",
              "      <td>NaN</td>\n",
              "      <td>NaN</td>\n",
              "      <td>NaN</td>\n",
              "      <td>2 Valve</td>\n",
              "      <td>NaN</td>\n",
              "      <td>NaN</td>\n",
              "      <td>NaN</td>\n",
              "      <td>NaN</td>\n",
              "      <td>23.5</td>\n",
              "      <td>None or Unspecified</td>\n",
              "      <td>NaN</td>\n",
              "      <td>NaN</td>\n",
              "      <td>NaN</td>\n",
              "      <td>NaN</td>\n",
              "      <td>NaN</td>\n",
              "      <td>NaN</td>\n",
              "      <td>NaN</td>\n",
              "      <td>NaN</td>\n",
              "      <td>NaN</td>\n",
              "      <td>NaN</td>\n",
              "      <td>NaN</td>\n",
              "      <td>NaN</td>\n",
              "      <td>Standard</td>\n",
              "      <td>Conventional</td>\n",
              "    </tr>\n",
              "    <tr>\n",
              "      <th>2</th>\n",
              "      <td>1139249</td>\n",
              "      <td>10000</td>\n",
              "      <td>434808</td>\n",
              "      <td>7009</td>\n",
              "      <td>121</td>\n",
              "      <td>3</td>\n",
              "      <td>2001</td>\n",
              "      <td>2838.0</td>\n",
              "      <td>High</td>\n",
              "      <td>2004-02-26</td>\n",
              "      <td>226</td>\n",
              "      <td>226</td>\n",
              "      <td>NaN</td>\n",
              "      <td>NaN</td>\n",
              "      <td>NaN</td>\n",
              "      <td>NaN</td>\n",
              "      <td>Skid Steer Loader - 1351.0 to 1601.0 Lb Operat...</td>\n",
              "      <td>New York</td>\n",
              "      <td>SSL</td>\n",
              "      <td>Skid Steer Loaders</td>\n",
              "      <td>NaN</td>\n",
              "      <td>OROPS</td>\n",
              "      <td>None or Unspecified</td>\n",
              "      <td>NaN</td>\n",
              "      <td>NaN</td>\n",
              "      <td>NaN</td>\n",
              "      <td>NaN</td>\n",
              "      <td>NaN</td>\n",
              "      <td>NaN</td>\n",
              "      <td>NaN</td>\n",
              "      <td>NaN</td>\n",
              "      <td>NaN</td>\n",
              "      <td>Auxiliary</td>\n",
              "      <td>NaN</td>\n",
              "      <td>NaN</td>\n",
              "      <td>NaN</td>\n",
              "      <td>NaN</td>\n",
              "      <td>NaN</td>\n",
              "      <td>None or Unspecified</td>\n",
              "      <td>None or Unspecified</td>\n",
              "      <td>None or Unspecified</td>\n",
              "      <td>Standard</td>\n",
              "      <td>NaN</td>\n",
              "      <td>NaN</td>\n",
              "      <td>NaN</td>\n",
              "      <td>NaN</td>\n",
              "      <td>NaN</td>\n",
              "      <td>NaN</td>\n",
              "      <td>NaN</td>\n",
              "      <td>NaN</td>\n",
              "      <td>NaN</td>\n",
              "      <td>NaN</td>\n",
              "      <td>NaN</td>\n",
              "    </tr>\n",
              "    <tr>\n",
              "      <th>3</th>\n",
              "      <td>1139251</td>\n",
              "      <td>38500</td>\n",
              "      <td>1026470</td>\n",
              "      <td>332</td>\n",
              "      <td>121</td>\n",
              "      <td>3</td>\n",
              "      <td>2001</td>\n",
              "      <td>3486.0</td>\n",
              "      <td>High</td>\n",
              "      <td>2011-05-19</td>\n",
              "      <td>PC120-6E</td>\n",
              "      <td>PC120</td>\n",
              "      <td>NaN</td>\n",
              "      <td>-6E</td>\n",
              "      <td>NaN</td>\n",
              "      <td>Small</td>\n",
              "      <td>Hydraulic Excavator, Track - 12.0 to 14.0 Metr...</td>\n",
              "      <td>Texas</td>\n",
              "      <td>TEX</td>\n",
              "      <td>Track Excavators</td>\n",
              "      <td>NaN</td>\n",
              "      <td>EROPS w AC</td>\n",
              "      <td>NaN</td>\n",
              "      <td>NaN</td>\n",
              "      <td>NaN</td>\n",
              "      <td>NaN</td>\n",
              "      <td>NaN</td>\n",
              "      <td>NaN</td>\n",
              "      <td>NaN</td>\n",
              "      <td>NaN</td>\n",
              "      <td>NaN</td>\n",
              "      <td>NaN</td>\n",
              "      <td>2 Valve</td>\n",
              "      <td>NaN</td>\n",
              "      <td>NaN</td>\n",
              "      <td>NaN</td>\n",
              "      <td>NaN</td>\n",
              "      <td>NaN</td>\n",
              "      <td>None or Unspecified</td>\n",
              "      <td>NaN</td>\n",
              "      <td>NaN</td>\n",
              "      <td>NaN</td>\n",
              "      <td>NaN</td>\n",
              "      <td>NaN</td>\n",
              "      <td>NaN</td>\n",
              "      <td>NaN</td>\n",
              "      <td>NaN</td>\n",
              "      <td>NaN</td>\n",
              "      <td>NaN</td>\n",
              "      <td>NaN</td>\n",
              "      <td>NaN</td>\n",
              "      <td>NaN</td>\n",
              "      <td>NaN</td>\n",
              "    </tr>\n",
              "    <tr>\n",
              "      <th>4</th>\n",
              "      <td>1139253</td>\n",
              "      <td>11000</td>\n",
              "      <td>1057373</td>\n",
              "      <td>17311</td>\n",
              "      <td>121</td>\n",
              "      <td>3</td>\n",
              "      <td>2007</td>\n",
              "      <td>722.0</td>\n",
              "      <td>Medium</td>\n",
              "      <td>2009-07-23</td>\n",
              "      <td>S175</td>\n",
              "      <td>S175</td>\n",
              "      <td>NaN</td>\n",
              "      <td>NaN</td>\n",
              "      <td>NaN</td>\n",
              "      <td>NaN</td>\n",
              "      <td>Skid Steer Loader - 1601.0 to 1751.0 Lb Operat...</td>\n",
              "      <td>New York</td>\n",
              "      <td>SSL</td>\n",
              "      <td>Skid Steer Loaders</td>\n",
              "      <td>NaN</td>\n",
              "      <td>EROPS</td>\n",
              "      <td>None or Unspecified</td>\n",
              "      <td>NaN</td>\n",
              "      <td>NaN</td>\n",
              "      <td>NaN</td>\n",
              "      <td>NaN</td>\n",
              "      <td>NaN</td>\n",
              "      <td>NaN</td>\n",
              "      <td>NaN</td>\n",
              "      <td>NaN</td>\n",
              "      <td>NaN</td>\n",
              "      <td>Auxiliary</td>\n",
              "      <td>NaN</td>\n",
              "      <td>NaN</td>\n",
              "      <td>NaN</td>\n",
              "      <td>NaN</td>\n",
              "      <td>NaN</td>\n",
              "      <td>None or Unspecified</td>\n",
              "      <td>None or Unspecified</td>\n",
              "      <td>None or Unspecified</td>\n",
              "      <td>Standard</td>\n",
              "      <td>NaN</td>\n",
              "      <td>NaN</td>\n",
              "      <td>NaN</td>\n",
              "      <td>NaN</td>\n",
              "      <td>NaN</td>\n",
              "      <td>NaN</td>\n",
              "      <td>NaN</td>\n",
              "      <td>NaN</td>\n",
              "      <td>NaN</td>\n",
              "      <td>NaN</td>\n",
              "      <td>NaN</td>\n",
              "    </tr>\n",
              "  </tbody>\n",
              "</table>\n",
              "</div>"
            ],
            "text/plain": [
              "   SalesID  SalePrice  ...  Differential_Type  Steering_Controls\n",
              "0  1139246      66000  ...           Standard       Conventional\n",
              "1  1139248      57000  ...           Standard       Conventional\n",
              "2  1139249      10000  ...                NaN                NaN\n",
              "3  1139251      38500  ...                NaN                NaN\n",
              "4  1139253      11000  ...                NaN                NaN\n",
              "\n",
              "[5 rows x 53 columns]"
            ]
          },
          "metadata": {
            "tags": []
          },
          "execution_count": 35
        }
      ]
    },
    {
      "cell_type": "code",
      "metadata": {
        "colab": {
          "base_uri": "https://localhost:8080/"
        },
        "id": "57kplRayrKMo",
        "outputId": "1c9ea3d7-9831-47dc-d8be-852a6980f877"
      },
      "source": [
        "df.info()"
      ],
      "execution_count": null,
      "outputs": [
        {
          "output_type": "stream",
          "text": [
            "<class 'pandas.core.frame.DataFrame'>\n",
            "RangeIndex: 43308 entries, 0 to 43307\n",
            "Data columns (total 53 columns):\n",
            " #   Column                    Non-Null Count  Dtype         \n",
            "---  ------                    --------------  -----         \n",
            " 0   SalesID                   43308 non-null  int64         \n",
            " 1   SalePrice                 43308 non-null  int64         \n",
            " 2   MachineID                 43308 non-null  int64         \n",
            " 3   ModelID                   43308 non-null  int64         \n",
            " 4   datasource                43308 non-null  int64         \n",
            " 5   auctioneerID              43308 non-null  int64         \n",
            " 6   YearMade                  43308 non-null  int64         \n",
            " 7   MachineHoursCurrentMeter  24928 non-null  float64       \n",
            " 8   UsageBand                 22002 non-null  object        \n",
            " 9   saledate                  43308 non-null  datetime64[ns]\n",
            " 10  fiModelDesc               43308 non-null  object        \n",
            " 11  fiBaseModel               43308 non-null  object        \n",
            " 12  fiSecondaryDesc           27838 non-null  object        \n",
            " 13  fiModelSeries             3823 non-null   object        \n",
            " 14  fiModelDescriptor         6781 non-null   object        \n",
            " 15  ProductSize               14783 non-null  object        \n",
            " 16  fiProductClassDesc        43308 non-null  object        \n",
            " 17  state                     43307 non-null  object        \n",
            " 18  ProductGroup              43307 non-null  object        \n",
            " 19  ProductGroupDesc          43307 non-null  object        \n",
            " 20  Drive_System              14296 non-null  object        \n",
            " 21  Enclosure                 43289 non-null  object        \n",
            " 22  Forks                     28288 non-null  object        \n",
            " 23  Pad_Type                  12800 non-null  object        \n",
            " 24  Ride_Control              19314 non-null  object        \n",
            " 25  Stick                     12800 non-null  object        \n",
            " 26  Transmission              19582 non-null  object        \n",
            " 27  Turbocharged              12800 non-null  object        \n",
            " 28  Blade_Extension           1493 non-null   object        \n",
            " 29  Blade_Width               1493 non-null   object        \n",
            " 30  Enclosure_Type            1493 non-null   object        \n",
            " 31  Engine_Horsepower         1493 non-null   object        \n",
            " 32  Hydraulics                30443 non-null  object        \n",
            " 33  Pushblock                 1493 non-null   object        \n",
            " 34  Ripper                    6775 non-null   object        \n",
            " 35  Scarifier                 1493 non-null   object        \n",
            " 36  Tip_Control               1493 non-null   object        \n",
            " 37  Tire_Size                 8001 non-null   object        \n",
            " 38  Coupler                   23577 non-null  object        \n",
            " 39  Coupler_System            8983 non-null   object        \n",
            " 40  Grouser_Tracks            8967 non-null   object        \n",
            " 41  Hydraulics_Flow           8967 non-null   object        \n",
            " 42  Track_Type                8023 non-null   object        \n",
            " 43  Undercarriage_Pad_Width   8046 non-null   object        \n",
            " 44  Stick_Length              8024 non-null   object        \n",
            " 45  Thumb                     8027 non-null   object        \n",
            " 46  Pattern_Changer           8024 non-null   object        \n",
            " 47  Grouser_Type              8023 non-null   object        \n",
            " 48  Backhoe_Mounting          5272 non-null   object        \n",
            " 49  Blade_Type                5317 non-null   object        \n",
            " 50  Travel_Controls           5316 non-null   object        \n",
            " 51  Differential_Type         6508 non-null   object        \n",
            " 52  Steering_Controls         6507 non-null   object        \n",
            "dtypes: datetime64[ns](1), float64(1), int64(7), object(44)\n",
            "memory usage: 17.5+ MB\n"
          ],
          "name": "stdout"
        }
      ]
    },
    {
      "cell_type": "code",
      "metadata": {
        "id": "xAzwqC_CrsDX"
      },
      "source": [
        "df[\"saleYear\"] = df[\"saledate\"].dt.year\n",
        "df[\"saleMonth\"] = df[\"saledate\"].dt.month\n",
        "df[\"saleDay\"] = df[\"saledate\"].dt.day\n",
        "df[\"saleWeek\"] = df[\"saledate\"].dt.weekday\n",
        "df[\"saleDayofyear\"] = df[\"saledate\"].dt.dayofyear"
      ],
      "execution_count": null,
      "outputs": []
    },
    {
      "cell_type": "code",
      "metadata": {
        "colab": {
          "base_uri": "https://localhost:8080/"
        },
        "id": "R_gjaQpVtiAL",
        "outputId": "276b758c-20cf-42e9-b539-9a43ae378e39"
      },
      "source": [
        "df.info()"
      ],
      "execution_count": null,
      "outputs": [
        {
          "output_type": "stream",
          "text": [
            "<class 'pandas.core.frame.DataFrame'>\n",
            "RangeIndex: 43308 entries, 0 to 43307\n",
            "Data columns (total 58 columns):\n",
            " #   Column                    Non-Null Count  Dtype         \n",
            "---  ------                    --------------  -----         \n",
            " 0   SalesID                   43308 non-null  int64         \n",
            " 1   SalePrice                 43308 non-null  int64         \n",
            " 2   MachineID                 43308 non-null  int64         \n",
            " 3   ModelID                   43308 non-null  int64         \n",
            " 4   datasource                43308 non-null  int64         \n",
            " 5   auctioneerID              43308 non-null  int64         \n",
            " 6   YearMade                  43308 non-null  int64         \n",
            " 7   MachineHoursCurrentMeter  24928 non-null  float64       \n",
            " 8   UsageBand                 22002 non-null  object        \n",
            " 9   saledate                  43308 non-null  datetime64[ns]\n",
            " 10  fiModelDesc               43308 non-null  object        \n",
            " 11  fiBaseModel               43308 non-null  object        \n",
            " 12  fiSecondaryDesc           27838 non-null  object        \n",
            " 13  fiModelSeries             3823 non-null   object        \n",
            " 14  fiModelDescriptor         6781 non-null   object        \n",
            " 15  ProductSize               14783 non-null  object        \n",
            " 16  fiProductClassDesc        43308 non-null  object        \n",
            " 17  state                     43307 non-null  object        \n",
            " 18  ProductGroup              43307 non-null  object        \n",
            " 19  ProductGroupDesc          43307 non-null  object        \n",
            " 20  Drive_System              14296 non-null  object        \n",
            " 21  Enclosure                 43289 non-null  object        \n",
            " 22  Forks                     28288 non-null  object        \n",
            " 23  Pad_Type                  12800 non-null  object        \n",
            " 24  Ride_Control              19314 non-null  object        \n",
            " 25  Stick                     12800 non-null  object        \n",
            " 26  Transmission              19582 non-null  object        \n",
            " 27  Turbocharged              12800 non-null  object        \n",
            " 28  Blade_Extension           1493 non-null   object        \n",
            " 29  Blade_Width               1493 non-null   object        \n",
            " 30  Enclosure_Type            1493 non-null   object        \n",
            " 31  Engine_Horsepower         1493 non-null   object        \n",
            " 32  Hydraulics                30443 non-null  object        \n",
            " 33  Pushblock                 1493 non-null   object        \n",
            " 34  Ripper                    6775 non-null   object        \n",
            " 35  Scarifier                 1493 non-null   object        \n",
            " 36  Tip_Control               1493 non-null   object        \n",
            " 37  Tire_Size                 8001 non-null   object        \n",
            " 38  Coupler                   23577 non-null  object        \n",
            " 39  Coupler_System            8983 non-null   object        \n",
            " 40  Grouser_Tracks            8967 non-null   object        \n",
            " 41  Hydraulics_Flow           8967 non-null   object        \n",
            " 42  Track_Type                8023 non-null   object        \n",
            " 43  Undercarriage_Pad_Width   8046 non-null   object        \n",
            " 44  Stick_Length              8024 non-null   object        \n",
            " 45  Thumb                     8027 non-null   object        \n",
            " 46  Pattern_Changer           8024 non-null   object        \n",
            " 47  Grouser_Type              8023 non-null   object        \n",
            " 48  Backhoe_Mounting          5272 non-null   object        \n",
            " 49  Blade_Type                5317 non-null   object        \n",
            " 50  Travel_Controls           5316 non-null   object        \n",
            " 51  Differential_Type         6508 non-null   object        \n",
            " 52  Steering_Controls         6507 non-null   object        \n",
            " 53  saleYear                  43308 non-null  int64         \n",
            " 54  saleMonth                 43308 non-null  int64         \n",
            " 55  saleDay                   43308 non-null  int64         \n",
            " 56  saleWeek                  43308 non-null  int64         \n",
            " 57  saleDayofyear             43308 non-null  int64         \n",
            "dtypes: datetime64[ns](1), float64(1), int64(12), object(44)\n",
            "memory usage: 19.2+ MB\n"
          ],
          "name": "stdout"
        }
      ]
    },
    {
      "cell_type": "code",
      "metadata": {
        "colab": {
          "base_uri": "https://localhost:8080/",
          "height": 282
        },
        "id": "VF1G-OFbtkAM",
        "outputId": "19835401-ecce-406c-90ac-763d781eb49b"
      },
      "source": [
        "df.describe()"
      ],
      "execution_count": null,
      "outputs": [
        {
          "output_type": "execute_result",
          "data": {
            "text/html": [
              "<div>\n",
              "<style scoped>\n",
              "    .dataframe tbody tr th:only-of-type {\n",
              "        vertical-align: middle;\n",
              "    }\n",
              "\n",
              "    .dataframe tbody tr th {\n",
              "        vertical-align: top;\n",
              "    }\n",
              "\n",
              "    .dataframe thead th {\n",
              "        text-align: right;\n",
              "    }\n",
              "</style>\n",
              "<table border=\"1\" class=\"dataframe\">\n",
              "  <thead>\n",
              "    <tr style=\"text-align: right;\">\n",
              "      <th></th>\n",
              "      <th>SalesID</th>\n",
              "      <th>SalePrice</th>\n",
              "      <th>MachineID</th>\n",
              "      <th>ModelID</th>\n",
              "      <th>datasource</th>\n",
              "      <th>auctioneerID</th>\n",
              "      <th>YearMade</th>\n",
              "      <th>MachineHoursCurrentMeter</th>\n",
              "      <th>saleYear</th>\n",
              "      <th>saleMonth</th>\n",
              "      <th>saleDay</th>\n",
              "      <th>saleWeek</th>\n",
              "      <th>saleDayofyear</th>\n",
              "    </tr>\n",
              "  </thead>\n",
              "  <tbody>\n",
              "    <tr>\n",
              "      <th>count</th>\n",
              "      <td>4.330800e+04</td>\n",
              "      <td>43308.000000</td>\n",
              "      <td>4.330800e+04</td>\n",
              "      <td>43308.000000</td>\n",
              "      <td>43308.000000</td>\n",
              "      <td>43308.000000</td>\n",
              "      <td>43308.000000</td>\n",
              "      <td>24928.000000</td>\n",
              "      <td>43308.000000</td>\n",
              "      <td>43308.000000</td>\n",
              "      <td>43308.000000</td>\n",
              "      <td>43308.000000</td>\n",
              "      <td>43308.000000</td>\n",
              "    </tr>\n",
              "    <tr>\n",
              "      <th>mean</th>\n",
              "      <td>1.219162e+06</td>\n",
              "      <td>26728.910132</td>\n",
              "      <td>1.054412e+06</td>\n",
              "      <td>6883.480558</td>\n",
              "      <td>125.910732</td>\n",
              "      <td>5.635241</td>\n",
              "      <td>1865.261176</td>\n",
              "      <td>4577.775273</td>\n",
              "      <td>2004.405606</td>\n",
              "      <td>6.640921</td>\n",
              "      <td>16.629399</td>\n",
              "      <td>2.912256</td>\n",
              "      <td>187.568602</td>\n",
              "    </tr>\n",
              "    <tr>\n",
              "      <th>std</th>\n",
              "      <td>4.772571e+04</td>\n",
              "      <td>21788.948164</td>\n",
              "      <td>3.426875e+05</td>\n",
              "      <td>6293.278358</td>\n",
              "      <td>5.468405</td>\n",
              "      <td>13.425493</td>\n",
              "      <td>336.208633</td>\n",
              "      <td>5971.495183</td>\n",
              "      <td>6.135298</td>\n",
              "      <td>3.379831</td>\n",
              "      <td>8.459488</td>\n",
              "      <td>1.071018</td>\n",
              "      <td>101.803697</td>\n",
              "    </tr>\n",
              "    <tr>\n",
              "      <th>min</th>\n",
              "      <td>1.139246e+06</td>\n",
              "      <td>4750.000000</td>\n",
              "      <td>3.230000e+02</td>\n",
              "      <td>28.000000</td>\n",
              "      <td>121.000000</td>\n",
              "      <td>1.000000</td>\n",
              "      <td>1000.000000</td>\n",
              "      <td>0.000000</td>\n",
              "      <td>1989.000000</td>\n",
              "      <td>1.000000</td>\n",
              "      <td>1.000000</td>\n",
              "      <td>0.000000</td>\n",
              "      <td>2.000000</td>\n",
              "    </tr>\n",
              "    <tr>\n",
              "      <th>25%</th>\n",
              "      <td>1.175029e+06</td>\n",
              "      <td>12000.000000</td>\n",
              "      <td>1.011718e+06</td>\n",
              "      <td>3170.000000</td>\n",
              "      <td>121.000000</td>\n",
              "      <td>2.000000</td>\n",
              "      <td>1985.000000</td>\n",
              "      <td>947.000000</td>\n",
              "      <td>2000.000000</td>\n",
              "      <td>4.000000</td>\n",
              "      <td>10.000000</td>\n",
              "      <td>3.000000</td>\n",
              "      <td>96.000000</td>\n",
              "    </tr>\n",
              "    <tr>\n",
              "      <th>50%</th>\n",
              "      <td>1.214083e+06</td>\n",
              "      <td>18500.000000</td>\n",
              "      <td>1.058372e+06</td>\n",
              "      <td>3893.000000</td>\n",
              "      <td>121.000000</td>\n",
              "      <td>3.000000</td>\n",
              "      <td>1996.000000</td>\n",
              "      <td>2618.500000</td>\n",
              "      <td>2006.000000</td>\n",
              "      <td>6.000000</td>\n",
              "      <td>17.000000</td>\n",
              "      <td>3.000000</td>\n",
              "      <td>178.000000</td>\n",
              "    </tr>\n",
              "    <tr>\n",
              "      <th>75%</th>\n",
              "      <td>1.265659e+06</td>\n",
              "      <td>34000.000000</td>\n",
              "      <td>1.279537e+06</td>\n",
              "      <td>7001.250000</td>\n",
              "      <td>132.000000</td>\n",
              "      <td>3.000000</td>\n",
              "      <td>2003.000000</td>\n",
              "      <td>6321.250000</td>\n",
              "      <td>2009.000000</td>\n",
              "      <td>10.000000</td>\n",
              "      <td>24.000000</td>\n",
              "      <td>3.000000</td>\n",
              "      <td>274.000000</td>\n",
              "    </tr>\n",
              "    <tr>\n",
              "      <th>max</th>\n",
              "      <td>1.284162e+06</td>\n",
              "      <td>142000.000000</td>\n",
              "      <td>1.558285e+06</td>\n",
              "      <td>37198.000000</td>\n",
              "      <td>132.000000</td>\n",
              "      <td>99.000000</td>\n",
              "      <td>2010.000000</td>\n",
              "      <td>220893.000000</td>\n",
              "      <td>2011.000000</td>\n",
              "      <td>12.000000</td>\n",
              "      <td>31.000000</td>\n",
              "      <td>6.000000</td>\n",
              "      <td>365.000000</td>\n",
              "    </tr>\n",
              "  </tbody>\n",
              "</table>\n",
              "</div>"
            ],
            "text/plain": [
              "            SalesID      SalePrice  ...      saleWeek  saleDayofyear\n",
              "count  4.330800e+04   43308.000000  ...  43308.000000   43308.000000\n",
              "mean   1.219162e+06   26728.910132  ...      2.912256     187.568602\n",
              "std    4.772571e+04   21788.948164  ...      1.071018     101.803697\n",
              "min    1.139246e+06    4750.000000  ...      0.000000       2.000000\n",
              "25%    1.175029e+06   12000.000000  ...      3.000000      96.000000\n",
              "50%    1.214083e+06   18500.000000  ...      3.000000     178.000000\n",
              "75%    1.265659e+06   34000.000000  ...      3.000000     274.000000\n",
              "max    1.284162e+06  142000.000000  ...      6.000000     365.000000\n",
              "\n",
              "[8 rows x 13 columns]"
            ]
          },
          "metadata": {
            "tags": []
          },
          "execution_count": 41
        }
      ]
    },
    {
      "cell_type": "code",
      "metadata": {
        "colab": {
          "base_uri": "https://localhost:8080/",
          "height": 397
        },
        "id": "BzF9p2B1tvfb",
        "outputId": "6e3a501b-cb6b-44bd-a713-58d14ae93cf6"
      },
      "source": [
        "sns.heatmap(df.corr());"
      ],
      "execution_count": null,
      "outputs": [
        {
          "output_type": "display_data",
          "data": {
            "image/png": "[encoded data removed]",
            "text/plain": [
              "<Figure size 432x288 with 2 Axes>"
            ]
          },
          "metadata": {
            "tags": [],
            "needs_background": "light"
          }
        }
      ]
    },
    {
      "cell_type": "code",
      "metadata": {
        "id": "-HPlLo2usdzg"
      },
      "source": [
        "df.drop([\"saledate\" , \"saleDayofyear\"],axis=1,inplace=True)"
      ],
      "execution_count": null,
      "outputs": []
    },
    {
      "cell_type": "code",
      "metadata": {
        "colab": {
          "base_uri": "https://localhost:8080/",
          "height": 397
        },
        "id": "RHrtAThKtxN0",
        "outputId": "1f225a9d-65ec-4c90-dd90-edd66064bffa"
      },
      "source": [
        "sns.heatmap(df.corr());"
      ],
      "execution_count": null,
      "outputs": [
        {
          "output_type": "display_data",
          "data": {
            "image/png": "[encoded data removed]",
            "text/plain": [
              "<Figure size 432x288 with 2 Axes>"
            ]
          },
          "metadata": {
            "tags": [],
            "needs_background": "light"
          }
        }
      ]
    },
    {
      "cell_type": "code",
      "metadata": {
        "colab": {
          "base_uri": "https://localhost:8080/"
        },
        "id": "RO9HA1x3u5tE",
        "outputId": "7d3d589a-bb6e-42cd-8dbd-9d63320a6f51"
      },
      "source": [
        "df.isna().sum()"
      ],
      "execution_count": null,
      "outputs": [
        {
          "output_type": "execute_result",
          "data": {
            "text/plain": [
              "SalesID                         0\n",
              "SalePrice                       0\n",
              "MachineID                       0\n",
              "ModelID                         0\n",
              "datasource                      0\n",
              "auctioneerID                    0\n",
              "YearMade                        0\n",
              "MachineHoursCurrentMeter    18380\n",
              "UsageBand                   21306\n",
              "fiModelDesc                     0\n",
              "fiBaseModel                     0\n",
              "fiSecondaryDesc             15470\n",
              "fiModelSeries               39485\n",
              "fiModelDescriptor           36527\n",
              "ProductSize                 28525\n",
              "fiProductClassDesc              0\n",
              "state                           1\n",
              "ProductGroup                    1\n",
              "ProductGroupDesc                1\n",
              "Drive_System                29012\n",
              "Enclosure                      19\n",
              "Forks                       15020\n",
              "Pad_Type                    30508\n",
              "Ride_Control                23994\n",
              "Stick                       30508\n",
              "Transmission                23726\n",
              "Turbocharged                30508\n",
              "Blade_Extension             41815\n",
              "Blade_Width                 41815\n",
              "Enclosure_Type              41815\n",
              "Engine_Horsepower           41815\n",
              "Hydraulics                  12865\n",
              "Pushblock                   41815\n",
              "Ripper                      36533\n",
              "Scarifier                   41815\n",
              "Tip_Control                 41815\n",
              "Tire_Size                   35307\n",
              "Coupler                     19731\n",
              "Coupler_System              34325\n",
              "Grouser_Tracks              34341\n",
              "Hydraulics_Flow             34341\n",
              "Track_Type                  35285\n",
              "Undercarriage_Pad_Width     35262\n",
              "Stick_Length                35284\n",
              "Thumb                       35281\n",
              "Pattern_Changer             35284\n",
              "Grouser_Type                35285\n",
              "Backhoe_Mounting            38036\n",
              "Blade_Type                  37991\n",
              "Travel_Controls             37992\n",
              "Differential_Type           36800\n",
              "Steering_Controls           36801\n",
              "saleYear                        0\n",
              "saleMonth                       0\n",
              "saleDay                         0\n",
              "saleWeek                        0\n",
              "dtype: int64"
            ]
          },
          "metadata": {
            "tags": []
          },
          "execution_count": 45
        }
      ]
    },
    {
      "cell_type": "code",
      "metadata": {
        "colab": {
          "base_uri": "https://localhost:8080/"
        },
        "id": "pNdlFlIAvci6",
        "outputId": "b6651282-3b9d-488c-d2a8-cb3884de43e3"
      },
      "source": [
        "len(df)"
      ],
      "execution_count": null,
      "outputs": [
        {
          "output_type": "execute_result",
          "data": {
            "text/plain": [
              "43308"
            ]
          },
          "metadata": {
            "tags": []
          },
          "execution_count": 50
        }
      ]
    },
    {
      "cell_type": "code",
      "metadata": {
        "colab": {
          "base_uri": "https://localhost:8080/"
        },
        "id": "SQ98M78qvFd5",
        "outputId": "e4693c8f-e542-4fb4-c057-a9eb5a009682"
      },
      "source": [
        "cats = df.select_dtypes(include=\"object\").columns\n",
        "cats"
      ],
      "execution_count": null,
      "outputs": [
        {
          "output_type": "execute_result",
          "data": {
            "text/plain": [
              "Index(['UsageBand', 'fiModelDesc', 'fiBaseModel', 'fiSecondaryDesc',\n",
              "       'fiModelSeries', 'fiModelDescriptor', 'ProductSize',\n",
              "       'fiProductClassDesc', 'state', 'ProductGroup', 'ProductGroupDesc',\n",
              "       'Drive_System', 'Enclosure', 'Forks', 'Pad_Type', 'Ride_Control',\n",
              "       'Stick', 'Transmission', 'Turbocharged', 'Blade_Extension',\n",
              "       'Blade_Width', 'Enclosure_Type', 'Engine_Horsepower', 'Hydraulics',\n",
              "       'Pushblock', 'Ripper', 'Scarifier', 'Tip_Control', 'Tire_Size',\n",
              "       'Coupler', 'Coupler_System', 'Grouser_Tracks', 'Hydraulics_Flow',\n",
              "       'Track_Type', 'Undercarriage_Pad_Width', 'Stick_Length', 'Thumb',\n",
              "       'Pattern_Changer', 'Grouser_Type', 'Backhoe_Mounting', 'Blade_Type',\n",
              "       'Travel_Controls', 'Differential_Type', 'Steering_Controls'],\n",
              "      dtype='object')"
            ]
          },
          "metadata": {
            "tags": []
          },
          "execution_count": 46
        }
      ]
    },
    {
      "cell_type": "code",
      "metadata": {
        "colab": {
          "base_uri": "https://localhost:8080/"
        },
        "id": "rNdcCfwavIO9",
        "outputId": "b1c8ab52-832a-4918-d8b7-f841c8d822d9"
      },
      "source": [
        "ints = df.select_dtypes(exclude=\"object\").columns\n",
        "ints"
      ],
      "execution_count": null,
      "outputs": [
        {
          "output_type": "execute_result",
          "data": {
            "text/plain": [
              "Index(['SalesID', 'SalePrice', 'MachineID', 'ModelID', 'datasource',\n",
              "       'auctioneerID', 'YearMade', 'MachineHoursCurrentMeter', 'saleYear',\n",
              "       'saleMonth', 'saleDay', 'saleWeek'],\n",
              "      dtype='object')"
            ]
          },
          "metadata": {
            "tags": []
          },
          "execution_count": 47
        }
      ]
    },
    {
      "cell_type": "code",
      "metadata": {
        "colab": {
          "base_uri": "https://localhost:8080/"
        },
        "id": "elPy2GGivKYr",
        "outputId": "edb11da7-cb2a-48f5-e890-520c9846e02a"
      },
      "source": [
        "for i in cats:\n",
        "  print(f\"The number of unique values in {i} column is/are : {len(df[i].unique())}\")\n",
        "  print(\"\\n\")\n",
        "  print(f\"The unique values in {i} column is/are  : {df[i].unique()}\")\n",
        "  print(\"\\n\")\n",
        "  print(f\"The value counts for each value in {i} column is/are :  \\n{df[i].value_counts()}\")\n",
        "  print(\"\\n\\n\")\n",
        "  print(\"*\"*100)\n",
        "  print(\"\\n\\n\")"
      ],
      "execution_count": null,
      "outputs": [
        {
          "output_type": "stream",
          "text": [
            "The number of unique values in UsageBand column is/are : 4\n",
            "\n",
            "\n",
            "The unique values in UsageBand column is/are  : ['Low' 'High' 'Medium' nan]\n",
            "\n",
            "\n",
            "The value counts for each value in UsageBand column is/are :  \n",
            "Medium    10597\n",
            "Low        7358\n",
            "High       4047\n",
            "Name: UsageBand, dtype: int64\n",
            "\n",
            "\n",
            "\n",
            "****************************************************************************************************\n",
            "\n",
            "\n",
            "\n",
            "The number of unique values in fiModelDesc column is/are : 2461\n",
            "\n",
            "\n",
            "The unique values in fiModelDesc column is/are  : ['521D' '950FII' '226' ... 'CK62' '721BXT' '621CXR']\n",
            "\n",
            "\n",
            "The value counts for each value in fiModelDesc column is/are :  \n",
            "580K          3362\n",
            "580           2267\n",
            "1845C         2113\n",
            "1840          1376\n",
            "580C           795\n",
            "              ... \n",
            "XT850            1\n",
            "R360LC           1\n",
            "FR9B             1\n",
            "PC308USLC3       1\n",
            "EX200-2          1\n",
            "Name: fiModelDesc, Length: 2461, dtype: int64\n",
            "\n",
            "\n",
            "\n",
            "****************************************************************************************************\n",
            "\n",
            "\n",
            "\n",
            "The number of unique values in fiBaseModel column is/are : 1074\n",
            "\n",
            "\n",
            "The unique values in fiBaseModel column is/are  : ['521' '950' '226' ... '9013' 'CX14' 'CK62']\n",
            "\n",
            "\n",
            "The value counts for each value in fiBaseModel column is/are :  \n",
            "580      8204\n",
            "1845     2257\n",
            "1840     1376\n",
            "621       963\n",
            "D6        780\n",
            "         ... \n",
            "PC80        1\n",
            "2300        1\n",
            "1700        1\n",
            "UH123       1\n",
            "18          1\n",
            "Name: fiBaseModel, Length: 1074, dtype: int64\n",
            "\n",
            "\n",
            "\n",
            "****************************************************************************************************\n",
            "\n",
            "\n",
            "\n",
            "The number of unique values in fiSecondaryDesc column is/are : 103\n",
            "\n",
            "\n",
            "The unique values in fiSecondaryDesc column is/are  : ['D' 'F' nan 'G' 'E' 'HAG' 'B' 'NX' 'SUPER K' 'STD' 'BL' 'Z' 'C' 'XT' 'A'\n",
            " 'H' 'MR' 'PT' 'L' 'M' 'J' 'SE' 'SXT' 'HD' 'LC' 'SUPER M' 'LX' 'SUPER L'\n",
            " 'LE' 'K' 'S' 'R' 'P' 'SG' 'US' 'UU' 'WX' 'PX' 'N' 'ZTM' 'SUPER E' 'XL'\n",
            " 'MXT' 'EX' '-2' 'LCM' 'GT' 'TM' 'HZ' 'AX' 'DXT' '3' 'SR' '7' 'ZTS'\n",
            " 'B     ' 'T' 'UR' '-3' 'V' 'ZT' '1' 'SUPER M PLUS' 'BZD' 'DZ' 'WD' 'LGP'\n",
            " 'SRLC' 'CH' 'CS' 'M      ' 'ZHS G' 'Q' 'MRX' 'FR' 'UNA' 'R-2' 'PS' 'AG'\n",
            " 'URG' 'NE' 'U' '2' 'SB' 'TX' 'TTL' 'JX' 'LT' 'MSR SPIN ACE' 'HF' 'HDSL'\n",
            " 'LCD' 'X' 'LS' 'EST' 'LR' 'TC' 'BLGP' 'USR' 'RC' 'SJ' 'ZF' 'SUPER LE']\n",
            "\n",
            "\n",
            "The value counts for each value in fiSecondaryDesc column is/are :  \n",
            "C       6051\n",
            "B       3970\n",
            "K       3776\n",
            "G       2654\n",
            "D       2436\n",
            "        ... \n",
            "HZ         1\n",
            "ZT         1\n",
            "STD        1\n",
            "HDSL       1\n",
            "JX         1\n",
            "Name: fiSecondaryDesc, Length: 102, dtype: int64\n",
            "\n",
            "\n",
            "\n",
            "****************************************************************************************************\n",
            "\n",
            "\n",
            "\n",
            "The number of unique values in fiModelSeries column is/are : 70\n",
            "\n",
            "\n",
            "The unique values in fiModelSeries column is/are  : [nan 'II' '-6E' 'LC' '-5' 'III' '-1' '5' '-2' '1' '#NAME?' '-3L' '-20' '3'\n",
            " '15' '-12' '6' '-6' 'V' '-3' '-3PT' '-21' '-7' '7' '-3MC' 'IV' '-21A'\n",
            " '-3LC' '-5L' '5N' '-5H' '-1L' '-8' '4' '2' '-18' '-15' '2T' '18' 'E'\n",
            " '-3C' '-6B' '7.00E+00' 'A' '-3LK' 'ZTS' '-2N' '12' 'V-2' 'XT' '-7E' '-2C'\n",
            " '-8E' '-6LC' '-3H' '16' 'IV-2' '-6K' '6F' '22' '3A' 'VHP' 'LGP' 'LT'\n",
            " '14FT' 'EX' '-6C' '3C' '-7K' '17']\n",
            "\n",
            "\n",
            "The value counts for each value in fiModelSeries column is/are :  \n",
            "II      878\n",
            "LC      623\n",
            "III     345\n",
            "-2      250\n",
            "-1      160\n",
            "       ... \n",
            "14FT      1\n",
            "-7K       1\n",
            "-6LC      1\n",
            "-3C       1\n",
            "LGP       1\n",
            "Name: fiModelSeries, Length: 69, dtype: int64\n",
            "\n",
            "\n",
            "\n",
            "****************************************************************************************************\n",
            "\n",
            "\n",
            "\n",
            "The number of unique values in fiModelDescriptor column is/are : 88\n",
            "\n",
            "\n",
            "The unique values in fiModelDescriptor column is/are  : [nan 'LC' '6' 'L' 'LT' 'CR' 'SB' 'XL' 'LGP' 'VHP' '7' 'Z' '2.00E+00' 'MC'\n",
            " 'H' 'E' '3' 'LK' '5' 'K' '8' 'HT' 'LX' 'XLT' 'XW' 'HSD' '2' 'XR' 'TC'\n",
            " 'LCR' 'TLB' 'WT' 'TURBO' 'U' '4WD' 'XT' 'LRC' 'ZTS' 'RTS' 'TP' 'LE' 'LRR'\n",
            " 'SA' '3C' 'SR' 'XP' '1' 'BE' '3NO' 'CRSB' 'N' 'SSR' 'DHP' 'LM' ' SUPER'\n",
            " 'KA' 'H5' 'II' 'MH' 'P' 'LU' 'DT' 'XTV' 'LR' 'ZX' 'LL' 'V' 'DELUXE'\n",
            " 'USLC' 'SU' 'SRDZ' 'C' 'PRO' 'PLUS' 'SITEMASTER' 'DINGO' '3.00E+00'\n",
            " ' XLT' 'LN' 'AE0' 'SERIES3' '7.00E+00' 'ESL' 'A' 'G' 'B' 'DLL' 'CK']\n",
            "\n",
            "\n",
            "The value counts for each value in fiModelDescriptor column is/are :  \n",
            "L       1573\n",
            "LGP     1090\n",
            "LC      1084\n",
            "XL       694\n",
            "CR       321\n",
            "        ... \n",
            "USLC       1\n",
            "CRSB       1\n",
            "A          1\n",
            "PLUS       1\n",
            "AE0        1\n",
            "Name: fiModelDescriptor, Length: 87, dtype: int64\n",
            "\n",
            "\n",
            "\n",
            "****************************************************************************************************\n",
            "\n",
            "\n",
            "\n",
            "The number of unique values in ProductSize column is/are : 7\n",
            "\n",
            "\n",
            "The unique values in ProductSize column is/are  : [nan 'Medium' 'Small' 'Large / Medium' 'Mini' 'Large' 'Compact']\n",
            "\n",
            "\n",
            "The value counts for each value in ProductSize column is/are :  \n",
            "Medium            5118\n",
            "Large / Medium    4282\n",
            "Mini              1976\n",
            "Small             1825\n",
            "Large             1091\n",
            "Compact            491\n",
            "Name: ProductSize, dtype: int64\n",
            "\n",
            "\n",
            "\n",
            "****************************************************************************************************\n",
            "\n",
            "\n",
            "\n",
            "The number of unique values in fiProductClassDesc column is/are : 73\n",
            "\n",
            "\n",
            "The unique values in fiProductClassDesc column is/are  : ['Wheel Loader - 110.0 to 120.0 Horsepower'\n",
            " 'Wheel Loader - 150.0 to 175.0 Horsepower'\n",
            " 'Skid Steer Loader - 1351.0 to 1601.0 Lb Operating Capacity'\n",
            " 'Hydraulic Excavator, Track - 12.0 to 14.0 Metric Tons'\n",
            " 'Skid Steer Loader - 1601.0 to 1751.0 Lb Operating Capacity'\n",
            " 'Backhoe Loader - 14.0 to 15.0 Ft Standard Digging Depth'\n",
            " 'Hydraulic Excavator, Track - 21.0 to 24.0 Metric Tons'\n",
            " 'Hydraulic Excavator, Track - 3.0 to 4.0 Metric Tons'\n",
            " 'Wheel Loader - 350.0 to 500.0 Horsepower'\n",
            " 'Track Type Tractor, Dozer - 20.0 to 75.0 Horsepower'\n",
            " 'Hydraulic Excavator, Track - 19.0 to 21.0 Metric Tons'\n",
            " 'Hydraulic Excavator, Track - 4.0 to 5.0 Metric Tons'\n",
            " 'Hydraulic Excavator, Track - 2.0 to 3.0 Metric Tons'\n",
            " 'Hydraulic Excavator, Track - 24.0 to 28.0 Metric Tons'\n",
            " 'Motorgrader - 45.0 to 130.0 Horsepower'\n",
            " 'Wheel Loader - 200.0 to 225.0 Horsepower'\n",
            " 'Hydraulic Excavator, Track - 50.0 to 66.0 Metric Tons'\n",
            " 'Hydraulic Excavator, Track - 40.0 to 50.0 Metric Tons'\n",
            " 'Hydraulic Excavator, Track - 33.0 to 40.0 Metric Tons'\n",
            " 'Skid Steer Loader - 2201.0 to 2701.0 Lb Operating Capacity'\n",
            " 'Wheel Loader - 120.0 to 135.0 Horsepower'\n",
            " 'Track Type Tractor, Dozer - 130.0 to 160.0 Horsepower'\n",
            " 'Wheel Loader - 275.0 to 350.0 Horsepower'\n",
            " 'Motorgrader - 145.0 to 170.0 Horsepower'\n",
            " 'Hydraulic Excavator, Track - 6.0 to 8.0 Metric Tons'\n",
            " 'Wheel Loader - 60.0 to 80.0 Horsepower'\n",
            " 'Skid Steer Loader - 701.0 to 976.0 Lb Operating Capacity'\n",
            " 'Hydraulic Excavator, Track - 8.0 to 11.0 Metric Tons'\n",
            " 'Skid Steer Loader - 1751.0 to 2201.0 Lb Operating Capacity'\n",
            " 'Motorgrader - 170.0 to 200.0 Horsepower'\n",
            " 'Skid Steer Loader - 1251.0 to 1351.0 Lb Operating Capacity'\n",
            " 'Hydraulic Excavator, Track - 16.0 to 19.0 Metric Tons'\n",
            " 'Hydraulic Excavator, Track - 0.0 to 2.0 Metric Tons'\n",
            " 'Backhoe Loader - 15.0 to 16.0 Ft Standard Digging Depth'\n",
            " 'Motorgrader - 130.0 to 145.0 Horsepower'\n",
            " 'Track Type Tractor, Dozer - 75.0 to 85.0 Horsepower'\n",
            " 'Hydraulic Excavator, Track - 14.0 to 16.0 Metric Tons'\n",
            " 'Track Type Tractor, Dozer - 85.0 to 105.0 Horsepower'\n",
            " 'Backhoe Loader - 16.0 + Ft Standard Digging Depth'\n",
            " 'Hydraulic Excavator, Track - 28.0 to 33.0 Metric Tons'\n",
            " 'Track Type Tractor, Dozer - 105.0 to 130.0 Horsepower'\n",
            " 'Track Type Tractor, Dozer - 160.0 to 190.0 Horsepower'\n",
            " 'Backhoe Loader - 0.0 to 14.0 Ft Standard Digging Depth'\n",
            " 'Skid Steer Loader - 0.0 to 701.0 Lb Operating Capacity'\n",
            " 'Track Type Tractor, Dozer - 190.0 to 260.0 Horsepower'\n",
            " 'Wheel Loader - 135.0 to 150.0 Horsepower'\n",
            " 'Wheel Loader - 175.0 to 200.0 Horsepower'\n",
            " 'Wheel Loader - 225.0 to 250.0 Horsepower'\n",
            " 'Skid Steer Loader - 2701.0+ Lb Operating Capacity'\n",
            " 'Wheel Loader - 90.0 to 100.0 Horsepower'\n",
            " 'Track Type Tractor, Dozer - 260.0 + Horsepower'\n",
            " 'Motorgrader - 200.0 + Horsepower'\n",
            " 'Hydraulic Excavator, Track - 5.0 to 6.0 Metric Tons'\n",
            " 'Wheel Loader - 250.0 to 275.0 Horsepower'\n",
            " 'Wheel Loader - 40.0 to 60.0 Horsepower' 'Backhoe Loader - Unidentified'\n",
            " 'Skid Steer Loader - Unidentified'\n",
            " 'Hydraulic Excavator, Track - 66.0 to 90.0 Metric Tons'\n",
            " 'Wheel Loader - 100.0 to 110.0 Horsepower'\n",
            " 'Skid Steer Loader - 976.0 to 1251.0 Lb Operating Capacity'\n",
            " 'Wheel Loader - 500.0 to 1000.0 Horsepower'\n",
            " 'Wheel Loader - 80.0 to 90.0 Horsepower'\n",
            " 'Hydraulic Excavator, Track - Unidentified'\n",
            " 'Hydraulic Excavator, Track - 11.0 to 12.0 Metric Tons'\n",
            " 'Hydraulic Excavator, Track - 90.0 to 150.0 Metric Tons'\n",
            " 'Hydraulic Excavator, Track - 4.0 to 6.0 Metric Tons'\n",
            " 'Hydraulic Excavator, Track - 150.0 to 300.0 Metric Tons'\n",
            " 'Wheel Loader - Unidentified' 'Wheel Loader - 0.0 to 40.0 Horsepower'\n",
            " 'Hydraulic Excavator, Track - 300.0 + Metric Tons'\n",
            " 'Track Type Tractor, Dozer - Unidentified'\n",
            " 'Wheel Loader - 1000.0 + Horsepower' 'Backhoe Loader - 14.0 to 15.0 ']\n",
            "\n",
            "\n",
            "The value counts for each value in fiProductClassDesc column is/are :  \n",
            "Backhoe Loader - 14.0 to 15.0 Ft Standard Digging Depth       10132\n",
            "Skid Steer Loader - 1601.0 to 1751.0 Lb Operating Capacity     2865\n",
            "Skid Steer Loader - 1351.0 to 1601.0 Lb Operating Capacity     2184\n",
            "Wheel Loader - 120.0 to 135.0 Horsepower                       1695\n",
            "Skid Steer Loader - 1751.0 to 2201.0 Lb Operating Capacity     1598\n",
            "                                                              ...  \n",
            "Hydraulic Excavator, Track - 4.0 to 6.0 Metric Tons               3\n",
            "Track Type Tractor, Dozer - Unidentified                          2\n",
            "Hydraulic Excavator, Track - 300.0 + Metric Tons                  1\n",
            "Backhoe Loader - 14.0 to 15.0                                     1\n",
            "Wheel Loader - 1000.0 + Horsepower                                1\n",
            "Name: fiProductClassDesc, Length: 73, dtype: int64\n",
            "\n",
            "\n",
            "\n",
            "****************************************************************************************************\n",
            "\n",
            "\n",
            "\n",
            "The number of unique values in state column is/are : 54\n",
            "\n",
            "\n",
            "The unique values in state column is/are  : ['Alabama' 'North Carolina' 'New York' 'Texas' 'Arizona' 'Florida'\n",
            " 'Illinois' 'Oregon' 'Ohio' 'Arkansas' 'Wisconsin' 'Kansas' 'Nevada'\n",
            " 'Iowa' 'Maine' 'Massachusetts' 'California' 'Louisiana' 'Minnesota'\n",
            " 'New Hampshire' 'Idaho' 'Michigan' 'Mississippi' 'Georgia' 'Missouri'\n",
            " 'South Carolina' 'Utah' 'Tennessee' 'Washington' 'Virginia'\n",
            " 'South Dakota' 'West Virginia' 'Oklahoma' 'Pennsylvania' 'Wyoming'\n",
            " 'North Dakota' 'New Jersey' 'Kentucky' 'Montana' 'Alaska' 'Nebraska'\n",
            " 'Maryland' 'Hawaii' 'Colorado' 'New Mexico' 'Indiana' 'Connecticut'\n",
            " 'Delaware' 'Rhode Island' 'Vermont' 'Washington DC' 'Puerto Rico'\n",
            " 'Unspecified' nan]\n",
            "\n",
            "\n",
            "The value counts for each value in state column is/are :  \n",
            "Texas             4955\n",
            "Florida           4839\n",
            "California        2799\n",
            "Georgia           1983\n",
            "North Carolina    1503\n",
            "Ohio              1491\n",
            "Pennsylvania      1471\n",
            "Illinois          1426\n",
            "Washington        1219\n",
            "Arizona           1205\n",
            "Colorado          1175\n",
            "Louisiana         1160\n",
            "Tennessee         1055\n",
            "Alabama           1025\n",
            "New York          1018\n",
            "Kentucky           963\n",
            "New Jersey         953\n",
            "Minnesota          879\n",
            "Missouri           874\n",
            "Mississippi        867\n",
            "South Carolina     795\n",
            "Indiana            778\n",
            "Nevada             727\n",
            "Maryland           727\n",
            "Maine              651\n",
            "Virginia           615\n",
            "West Virginia      544\n",
            "Arkansas           484\n",
            "Utah               473\n",
            "Michigan           431\n",
            "Wisconsin          424\n",
            "Oklahoma           391\n",
            "Connecticut        388\n",
            "New Mexico         386\n",
            "Oregon             353\n",
            "Iowa               325\n",
            "Kansas             321\n",
            "Idaho              295\n",
            "Wyoming            236\n",
            "New Hampshire      185\n",
            "Delaware           155\n",
            "Massachusetts      131\n",
            "Montana            124\n",
            "South Dakota       118\n",
            "Unspecified         83\n",
            "North Dakota        81\n",
            "Hawaii              81\n",
            "Nebraska            63\n",
            "Vermont             35\n",
            "Alaska              31\n",
            "Rhode Island        13\n",
            "Washington DC        2\n",
            "Puerto Rico          1\n",
            "Name: state, dtype: int64\n",
            "\n",
            "\n",
            "\n",
            "****************************************************************************************************\n",
            "\n",
            "\n",
            "\n",
            "The number of unique values in ProductGroup column is/are : 7\n",
            "\n",
            "\n",
            "The unique values in ProductGroup column is/are  : ['WL' 'SSL' 'TEX' 'BL' 'TTT' 'MG' nan]\n",
            "\n",
            "\n",
            "The value counts for each value in ProductGroup column is/are :  \n",
            "BL     12825\n",
            "SSL     8984\n",
            "TEX     8102\n",
            "WL      6548\n",
            "TTT     5351\n",
            "MG      1497\n",
            "Name: ProductGroup, dtype: int64\n",
            "\n",
            "\n",
            "\n",
            "****************************************************************************************************\n",
            "\n",
            "\n",
            "\n",
            "The number of unique values in ProductGroupDesc column is/are : 7\n",
            "\n",
            "\n",
            "The unique values in ProductGroupDesc column is/are  : ['Wheel Loader' 'Skid Steer Loaders' 'Track Excavators' 'Backhoe Loaders'\n",
            " 'Track Type Tractors' 'Motor Graders' nan]\n",
            "\n",
            "\n",
            "The value counts for each value in ProductGroupDesc column is/are :  \n",
            "Backhoe Loaders        12825\n",
            "Skid Steer Loaders      8984\n",
            "Track Excavators        8102\n",
            "Wheel Loader            6548\n",
            "Track Type Tractors     5351\n",
            "Motor Graders           1497\n",
            "Name: ProductGroupDesc, dtype: int64\n",
            "\n",
            "\n",
            "\n",
            "****************************************************************************************************\n",
            "\n",
            "\n",
            "\n",
            "The number of unique values in Drive_System column is/are : 5\n",
            "\n",
            "\n",
            "The unique values in Drive_System column is/are  : [nan 'Four Wheel Drive' 'Two Wheel Drive' 'No' 'All Wheel Drive']\n",
            "\n",
            "\n",
            "The value counts for each value in Drive_System column is/are :  \n",
            "Two Wheel Drive     8737\n",
            "Four Wheel Drive    4063\n",
            "No                  1360\n",
            "All Wheel Drive      136\n",
            "Name: Drive_System, dtype: int64\n",
            "\n",
            "\n",
            "\n",
            "****************************************************************************************************\n",
            "\n",
            "\n",
            "\n",
            "The number of unique values in Enclosure column is/are : 4\n",
            "\n",
            "\n",
            "The unique values in Enclosure column is/are  : ['EROPS w AC' 'OROPS' 'EROPS' nan]\n",
            "\n",
            "\n",
            "The value counts for each value in Enclosure column is/are :  \n",
            "OROPS         22117\n",
            "EROPS         11146\n",
            "EROPS w AC    10026\n",
            "Name: Enclosure, dtype: int64\n",
            "\n",
            "\n",
            "\n",
            "****************************************************************************************************\n",
            "\n",
            "\n",
            "\n",
            "The number of unique values in Forks column is/are : 3\n",
            "\n",
            "\n",
            "The unique values in Forks column is/are  : ['None or Unspecified' nan 'Yes']\n",
            "\n",
            "\n",
            "The value counts for each value in Forks column is/are :  \n",
            "None or Unspecified    26676\n",
            "Yes                     1612\n",
            "Name: Forks, dtype: int64\n",
            "\n",
            "\n",
            "\n",
            "****************************************************************************************************\n",
            "\n",
            "\n",
            "\n",
            "The number of unique values in Pad_Type column is/are : 5\n",
            "\n",
            "\n",
            "The unique values in Pad_Type column is/are  : [nan 'None or Unspecified' 'Reversible' 'Street' 'Grouser']\n",
            "\n",
            "\n",
            "The value counts for each value in Pad_Type column is/are :  \n",
            "None or Unspecified    11975\n",
            "Reversible               568\n",
            "Street                   254\n",
            "Grouser                    3\n",
            "Name: Pad_Type, dtype: int64\n",
            "\n",
            "\n",
            "\n",
            "****************************************************************************************************\n",
            "\n",
            "\n",
            "\n",
            "The number of unique values in Ride_Control column is/are : 4\n",
            "\n",
            "\n",
            "The unique values in Ride_Control column is/are  : ['None or Unspecified' nan 'No' 'Yes']\n",
            "\n",
            "\n",
            "The value counts for each value in Ride_Control column is/are :  \n",
            "No                     12739\n",
            "None or Unspecified     6024\n",
            "Yes                      551\n",
            "Name: Ride_Control, dtype: int64\n",
            "\n",
            "\n",
            "\n",
            "****************************************************************************************************\n",
            "\n",
            "\n",
            "\n",
            "The number of unique values in Stick column is/are : 3\n",
            "\n",
            "\n",
            "The unique values in Stick column is/are  : [nan 'Extended' 'Standard']\n",
            "\n",
            "\n",
            "The value counts for each value in Stick column is/are :  \n",
            "Standard    8565\n",
            "Extended    4235\n",
            "Name: Stick, dtype: int64\n",
            "\n",
            "\n",
            "\n",
            "****************************************************************************************************\n",
            "\n",
            "\n",
            "\n",
            "The number of unique values in Transmission column is/are : 9\n",
            "\n",
            "\n",
            "The unique values in Transmission column is/are  : [nan 'Powershuttle' 'Standard' 'Powershift' 'None or Unspecified'\n",
            " 'Hydrostatic' 'Autoshift' 'Direct Drive' 'AutoShift']\n",
            "\n",
            "\n",
            "The value counts for each value in Transmission column is/are :  \n",
            "Standard               12352\n",
            "Powershift              3291\n",
            "Powershuttle            1833\n",
            "Hydrostatic             1513\n",
            "None or Unspecified      578\n",
            "Autoshift                  7\n",
            "Direct Drive               6\n",
            "AutoShift                  2\n",
            "Name: Transmission, dtype: int64\n",
            "\n",
            "\n",
            "\n",
            "****************************************************************************************************\n",
            "\n",
            "\n",
            "\n",
            "The number of unique values in Turbocharged column is/are : 3\n",
            "\n",
            "\n",
            "The unique values in Turbocharged column is/are  : [nan 'None or Unspecified' 'Yes']\n",
            "\n",
            "\n",
            "The value counts for each value in Turbocharged column is/are :  \n",
            "None or Unspecified    12579\n",
            "Yes                      221\n",
            "Name: Turbocharged, dtype: int64\n",
            "\n",
            "\n",
            "\n",
            "****************************************************************************************************\n",
            "\n",
            "\n",
            "\n",
            "The number of unique values in Blade_Extension column is/are : 3\n",
            "\n",
            "\n",
            "The unique values in Blade_Extension column is/are  : [nan 'Yes' 'None or Unspecified']\n",
            "\n",
            "\n",
            "The value counts for each value in Blade_Extension column is/are :  \n",
            "None or Unspecified    1433\n",
            "Yes                      60\n",
            "Name: Blade_Extension, dtype: int64\n",
            "\n",
            "\n",
            "\n",
            "****************************************************************************************************\n",
            "\n",
            "\n",
            "\n",
            "The number of unique values in Blade_Width column is/are : 7\n",
            "\n",
            "\n",
            "The unique values in Blade_Width column is/are  : [nan 'None or Unspecified' \"12'\" \"14'\" \"13'\" \"16'\" \"<12'\"]\n",
            "\n",
            "\n",
            "The value counts for each value in Blade_Width column is/are :  \n",
            "None or Unspecified    573\n",
            "14'                    547\n",
            "12'                    287\n",
            "16'                     63\n",
            "13'                     19\n",
            "<12'                     4\n",
            "Name: Blade_Width, dtype: int64\n",
            "\n",
            "\n",
            "\n",
            "****************************************************************************************************\n",
            "\n",
            "\n",
            "\n",
            "The number of unique values in Enclosure_Type column is/are : 4\n",
            "\n",
            "\n",
            "The unique values in Enclosure_Type column is/are  : [nan 'None or Unspecified' 'Low Profile' 'High Profile']\n",
            "\n",
            "\n",
            "The value counts for each value in Enclosure_Type column is/are :  \n",
            "None or Unspecified    1325\n",
            "Low Profile              93\n",
            "High Profile             75\n",
            "Name: Enclosure_Type, dtype: int64\n",
            "\n",
            "\n",
            "\n",
            "****************************************************************************************************\n",
            "\n",
            "\n",
            "\n",
            "The number of unique values in Engine_Horsepower column is/are : 3\n",
            "\n",
            "\n",
            "The unique values in Engine_Horsepower column is/are  : [nan 'No' 'Variable']\n",
            "\n",
            "\n",
            "The value counts for each value in Engine_Horsepower column is/are :  \n",
            "No          1386\n",
            "Variable     107\n",
            "Name: Engine_Horsepower, dtype: int64\n",
            "\n",
            "\n",
            "\n",
            "****************************************************************************************************\n",
            "\n",
            "\n",
            "\n",
            "The number of unique values in Hydraulics column is/are : 13\n",
            "\n",
            "\n",
            "The unique values in Hydraulics column is/are  : ['2 Valve' 'Auxiliary' nan 'Standard' 'Base + 1 Function'\n",
            " 'Base + 3 Function' '4 Valve' '3 Valve' 'Base + 2 Function'\n",
            " 'Base + 4 Function' 'None or Unspecified' 'Base + 5 Function'\n",
            " 'Base + 6 Function']\n",
            "\n",
            "\n",
            "The value counts for each value in Hydraulics column is/are :  \n",
            "2 Valve                11061\n",
            "Standard               10465\n",
            "Auxiliary               6614\n",
            "Base + 1 Function       1431\n",
            "3 Valve                  458\n",
            "4 Valve                  341\n",
            "Base + 3 Function         34\n",
            "Base + 4 Function         16\n",
            "Base + 2 Function         10\n",
            "Base + 5 Function          8\n",
            "None or Unspecified        3\n",
            "Base + 6 Function          2\n",
            "Name: Hydraulics, dtype: int64\n",
            "\n",
            "\n",
            "\n",
            "****************************************************************************************************\n",
            "\n",
            "\n",
            "\n",
            "The number of unique values in Pushblock column is/are : 3\n",
            "\n",
            "\n",
            "The unique values in Pushblock column is/are  : [nan 'None or Unspecified' 'Yes']\n",
            "\n",
            "\n",
            "The value counts for each value in Pushblock column is/are :  \n",
            "None or Unspecified    1226\n",
            "Yes                     267\n",
            "Name: Pushblock, dtype: int64\n",
            "\n",
            "\n",
            "\n",
            "****************************************************************************************************\n",
            "\n",
            "\n",
            "\n",
            "The number of unique values in Ripper column is/are : 5\n",
            "\n",
            "\n",
            "The unique values in Ripper column is/are  : [nan 'None or Unspecified' 'Yes' 'Single Shank' 'Multi Shank']\n",
            "\n",
            "\n",
            "The value counts for each value in Ripper column is/are :  \n",
            "None or Unspecified    5394\n",
            "Single Shank            563\n",
            "Yes                     480\n",
            "Multi Shank             338\n",
            "Name: Ripper, dtype: int64\n",
            "\n",
            "\n",
            "\n",
            "****************************************************************************************************\n",
            "\n",
            "\n",
            "\n",
            "The number of unique values in Scarifier column is/are : 3\n",
            "\n",
            "\n",
            "The unique values in Scarifier column is/are  : [nan 'Yes' 'None or Unspecified']\n",
            "\n",
            "\n",
            "The value counts for each value in Scarifier column is/are :  \n",
            "Yes                    786\n",
            "None or Unspecified    707\n",
            "Name: Scarifier, dtype: int64\n",
            "\n",
            "\n",
            "\n",
            "****************************************************************************************************\n",
            "\n",
            "\n",
            "\n",
            "The number of unique values in Tip_Control column is/are : 4\n",
            "\n",
            "\n",
            "The unique values in Tip_Control column is/are  : [nan 'Sideshift & Tip' 'None or Unspecified' 'Tip']\n",
            "\n",
            "\n",
            "The value counts for each value in Tip_Control column is/are :  \n",
            "None or Unspecified    1332\n",
            "Sideshift & Tip         113\n",
            "Tip                      48\n",
            "Name: Tip_Control, dtype: int64\n",
            "\n",
            "\n",
            "\n",
            "****************************************************************************************************\n",
            "\n",
            "\n",
            "\n",
            "The number of unique values in Tire_Size column is/are : 17\n",
            "\n",
            "\n",
            "The unique values in Tire_Size column is/are  : ['None or Unspecified' '23.5' nan '13\"' '26.5' '29.5' '14\"' '20.5' '17.5\"'\n",
            " '15.5\"' '20.5\"' '17.5' '7.0\"' '15.5' '23.5\"' '10\"' '23.1\"']\n",
            "\n",
            "\n",
            "The value counts for each value in Tire_Size column is/are :  \n",
            "None or Unspecified    3212\n",
            "20.5                   1752\n",
            "23.5                    843\n",
            "14\"                     669\n",
            "26.5                    542\n",
            "17.5                    304\n",
            "29.5                    299\n",
            "17.5\"                   170\n",
            "20.5\"                    60\n",
            "13\"                      50\n",
            "15.5\"                    49\n",
            "15.5                     34\n",
            "23.5\"                    13\n",
            "10\"                       2\n",
            "23.1\"                     1\n",
            "7.0\"                      1\n",
            "Name: Tire_Size, dtype: int64\n",
            "\n",
            "\n",
            "\n",
            "****************************************************************************************************\n",
            "\n",
            "\n",
            "\n",
            "The number of unique values in Coupler column is/are : 4\n",
            "\n",
            "\n",
            "The unique values in Coupler column is/are  : ['None or Unspecified' nan 'Manual' 'Hydraulic']\n",
            "\n",
            "\n",
            "The value counts for each value in Coupler column is/are :  \n",
            "None or Unspecified    18068\n",
            "Manual                  3951\n",
            "Hydraulic               1558\n",
            "Name: Coupler, dtype: int64\n",
            "\n",
            "\n",
            "\n",
            "****************************************************************************************************\n",
            "\n",
            "\n",
            "\n",
            "The number of unique values in Coupler_System column is/are : 3\n",
            "\n",
            "\n",
            "The unique values in Coupler_System column is/are  : [nan 'None or Unspecified' 'Yes']\n",
            "\n",
            "\n",
            "The value counts for each value in Coupler_System column is/are :  \n",
            "None or Unspecified    7074\n",
            "Yes                    1909\n",
            "Name: Coupler_System, dtype: int64\n",
            "\n",
            "\n",
            "\n",
            "****************************************************************************************************\n",
            "\n",
            "\n",
            "\n",
            "The number of unique values in Grouser_Tracks column is/are : 3\n",
            "\n",
            "\n",
            "The unique values in Grouser_Tracks column is/are  : [nan 'None or Unspecified' 'Yes']\n",
            "\n",
            "\n",
            "The value counts for each value in Grouser_Tracks column is/are :  \n",
            "None or Unspecified    7909\n",
            "Yes                    1058\n",
            "Name: Grouser_Tracks, dtype: int64\n",
            "\n",
            "\n",
            "\n",
            "****************************************************************************************************\n",
            "\n",
            "\n",
            "\n",
            "The number of unique values in Hydraulics_Flow column is/are : 4\n",
            "\n",
            "\n",
            "The unique values in Hydraulics_Flow column is/are  : [nan 'Standard' 'High Flow' 'None or Unspecified']\n",
            "\n",
            "\n",
            "The value counts for each value in Hydraulics_Flow column is/are :  \n",
            "Standard               8801\n",
            "High Flow               164\n",
            "None or Unspecified       2\n",
            "Name: Hydraulics_Flow, dtype: int64\n",
            "\n",
            "\n",
            "\n",
            "****************************************************************************************************\n",
            "\n",
            "\n",
            "\n",
            "The number of unique values in Track_Type column is/are : 3\n",
            "\n",
            "\n",
            "The unique values in Track_Type column is/are  : [nan 'Steel' 'Rubber']\n",
            "\n",
            "\n",
            "The value counts for each value in Track_Type column is/are :  \n",
            "Steel     6302\n",
            "Rubber    1721\n",
            "Name: Track_Type, dtype: int64\n",
            "\n",
            "\n",
            "\n",
            "****************************************************************************************************\n",
            "\n",
            "\n",
            "\n",
            "The number of unique values in Undercarriage_Pad_Width column is/are : 19\n",
            "\n",
            "\n",
            "The unique values in Undercarriage_Pad_Width column is/are  : [nan 'None or Unspecified' '16 inch' '32 inch' '28 inch' '30 inch'\n",
            " '22 inch' '24 inch' '18 inch' '36 inch' '20 inch' '27 inch' '15 inch'\n",
            " '26 inch' '34 inch' '33 inch' '14 inch' '31 inch' '25 inch']\n",
            "\n",
            "\n",
            "The value counts for each value in Undercarriage_Pad_Width column is/are :  \n",
            "None or Unspecified    5726\n",
            "32 inch                 619\n",
            "24 inch                 415\n",
            "36 inch                 238\n",
            "16 inch                 232\n",
            "28 inch                 204\n",
            "30 inch                 168\n",
            "18 inch                 142\n",
            "34 inch                  86\n",
            "20 inch                  68\n",
            "27 inch                  34\n",
            "14 inch                  33\n",
            "31 inch                  26\n",
            "33 inch                  19\n",
            "26 inch                  11\n",
            "22 inch                  10\n",
            "15 inch                  10\n",
            "25 inch                   5\n",
            "Name: Undercarriage_Pad_Width, dtype: int64\n",
            "\n",
            "\n",
            "\n",
            "****************************************************************************************************\n",
            "\n",
            "\n",
            "\n",
            "The number of unique values in Stick_Length column is/are : 23\n",
            "\n",
            "\n",
            "The unique values in Stick_Length column is/are  : [nan 'None or Unspecified' '11\\' 0\"' '15\\' 9\"' '10\\' 2\"' '10\\' 6\"'\n",
            " '9\\' 10\"' '10\\' 10\"' '9\\' 6\"' '9\\' 7\"' '12\\' 8\"' '8\\' 2\"' '8\\' 6\"'\n",
            " '9\\' 8\"' '12\\' 10\"' '11\\' 10\"' '8\\' 10\"' '8\\' 4\"' '12\\' 4\"' '9\\' 5\"'\n",
            " '6\\' 3\"' '14\\' 1\"' '13\\' 7\"']\n",
            "\n",
            "\n",
            "The value counts for each value in Stick_Length column is/are :  \n",
            "None or Unspecified    6792\n",
            "10' 6\"                  225\n",
            "9' 6\"                   176\n",
            "9' 7\"                   139\n",
            "9' 8\"                   127\n",
            "10' 2\"                   95\n",
            "12' 10\"                  90\n",
            "9' 10\"                   89\n",
            "11' 0\"                   85\n",
            "8' 6\"                    40\n",
            "8' 2\"                    33\n",
            "12' 8\"                   29\n",
            "10' 10\"                  22\n",
            "8' 4\"                    19\n",
            "11' 10\"                  16\n",
            "8' 10\"                   16\n",
            "15' 9\"                   10\n",
            "12' 4\"                   10\n",
            "9' 5\"                     8\n",
            "6' 3\"                     1\n",
            "14' 1\"                    1\n",
            "13' 7\"                    1\n",
            "Name: Stick_Length, dtype: int64\n",
            "\n",
            "\n",
            "\n",
            "****************************************************************************************************\n",
            "\n",
            "\n",
            "\n",
            "The number of unique values in Thumb column is/are : 4\n",
            "\n",
            "\n",
            "The unique values in Thumb column is/are  : [nan 'None or Unspecified' 'Hydraulic' 'Manual']\n",
            "\n",
            "\n",
            "The value counts for each value in Thumb column is/are :  \n",
            "None or Unspecified    6457\n",
            "Manual                  898\n",
            "Hydraulic               672\n",
            "Name: Thumb, dtype: int64\n",
            "\n",
            "\n",
            "\n",
            "****************************************************************************************************\n",
            "\n",
            "\n",
            "\n",
            "The number of unique values in Pattern_Changer column is/are : 4\n",
            "\n",
            "\n",
            "The unique values in Pattern_Changer column is/are  : [nan 'None or Unspecified' 'Yes' 'No']\n",
            "\n",
            "\n",
            "The value counts for each value in Pattern_Changer column is/are :  \n",
            "None or Unspecified    6556\n",
            "Yes                    1467\n",
            "No                        1\n",
            "Name: Pattern_Changer, dtype: int64\n",
            "\n",
            "\n",
            "\n",
            "****************************************************************************************************\n",
            "\n",
            "\n",
            "\n",
            "The number of unique values in Grouser_Type column is/are : 3\n",
            "\n",
            "\n",
            "The unique values in Grouser_Type column is/are  : [nan 'Double' 'Triple']\n",
            "\n",
            "\n",
            "The value counts for each value in Grouser_Type column is/are :  \n",
            "Double    7422\n",
            "Triple     601\n",
            "Name: Grouser_Type, dtype: int64\n",
            "\n",
            "\n",
            "\n",
            "****************************************************************************************************\n",
            "\n",
            "\n",
            "\n",
            "The number of unique values in Backhoe_Mounting column is/are : 3\n",
            "\n",
            "\n",
            "The unique values in Backhoe_Mounting column is/are  : [nan 'None or Unspecified' 'Yes']\n",
            "\n",
            "\n",
            "The value counts for each value in Backhoe_Mounting column is/are :  \n",
            "None or Unspecified    5269\n",
            "Yes                       3\n",
            "Name: Backhoe_Mounting, dtype: int64\n",
            "\n",
            "\n",
            "\n",
            "****************************************************************************************************\n",
            "\n",
            "\n",
            "\n",
            "The number of unique values in Blade_Type column is/are : 11\n",
            "\n",
            "\n",
            "The unique values in Blade_Type column is/are  : [nan 'PAT' 'None or Unspecified' 'Semi U' 'VPAT' 'Straight' 'Angle' 'No'\n",
            " 'U' 'Landfill' 'Coal']\n",
            "\n",
            "\n",
            "The value counts for each value in Blade_Type column is/are :  \n",
            "None or Unspecified    2318\n",
            "PAT                    1871\n",
            "VPAT                    411\n",
            "Semi U                  353\n",
            "Straight                241\n",
            "Angle                    50\n",
            "No                       39\n",
            "U                        30\n",
            "Coal                      2\n",
            "Landfill                  2\n",
            "Name: Blade_Type, dtype: int64\n",
            "\n",
            "\n",
            "\n",
            "****************************************************************************************************\n",
            "\n",
            "\n",
            "\n",
            "The number of unique values in Travel_Controls column is/are : 8\n",
            "\n",
            "\n",
            "The unique values in Travel_Controls column is/are  : [nan 'None or Unspecified' 'Differential Steer' 'Lever' 'Finger Tip'\n",
            " '2 Pedal' 'Pedal' '1 Speed']\n",
            "\n",
            "\n",
            "The value counts for each value in Travel_Controls column is/are :  \n",
            "None or Unspecified    4007\n",
            "Differential Steer      534\n",
            "Lever                   386\n",
            "Finger Tip              332\n",
            "2 Pedal                  43\n",
            "Pedal                    13\n",
            "1 Speed                   1\n",
            "Name: Travel_Controls, dtype: int64\n",
            "\n",
            "\n",
            "\n",
            "****************************************************************************************************\n",
            "\n",
            "\n",
            "\n",
            "The number of unique values in Differential_Type column is/are : 4\n",
            "\n",
            "\n",
            "The unique values in Differential_Type column is/are  : ['Standard' nan 'Limited Slip' 'No Spin']\n",
            "\n",
            "\n",
            "The value counts for each value in Differential_Type column is/are :  \n",
            "Standard        6388\n",
            "Limited Slip     112\n",
            "No Spin            8\n",
            "Name: Differential_Type, dtype: int64\n",
            "\n",
            "\n",
            "\n",
            "****************************************************************************************************\n",
            "\n",
            "\n",
            "\n",
            "The number of unique values in Steering_Controls column is/are : 4\n",
            "\n",
            "\n",
            "The unique values in Steering_Controls column is/are  : ['Conventional' nan 'Command Control' 'Four Wheel Standard']\n",
            "\n",
            "\n",
            "The value counts for each value in Steering_Controls column is/are :  \n",
            "Conventional           6449\n",
            "Command Control          56\n",
            "Four Wheel Standard       2\n",
            "Name: Steering_Controls, dtype: int64\n",
            "\n",
            "\n",
            "\n",
            "****************************************************************************************************\n",
            "\n",
            "\n",
            "\n"
          ],
          "name": "stdout"
        }
      ]
    },
    {
      "cell_type": "code",
      "metadata": {
        "colab": {
          "base_uri": "https://localhost:8080/"
        },
        "id": "Pzt4uGy5vPmD",
        "outputId": "361dc8b5-4f6a-4b30-da8c-cef5d3a3c35a"
      },
      "source": [
        "for i in ints:\n",
        "  print(f\"The number of unique values in {i} are {len(df[i].unique())}\")\n",
        "  print(\"\\n\")\n",
        "  print(f\"The number of missingvalues in {i} are {df[i].isna().sum()}\")\n",
        "  print(\"\\n\")\n",
        "  print(\"*\"*100)\n",
        "  print(\"\\n\")"
      ],
      "execution_count": null,
      "outputs": [
        {
          "output_type": "stream",
          "text": [
            "The number of unique values in SalesID are 43308\n",
            "\n",
            "\n",
            "The number of missingvalues in SalesID are 0\n",
            "\n",
            "\n",
            "****************************************************************************************************\n",
            "\n",
            "\n",
            "The number of unique values in SalePrice are 470\n",
            "\n",
            "\n",
            "The number of missingvalues in SalePrice are 0\n",
            "\n",
            "\n",
            "****************************************************************************************************\n",
            "\n",
            "\n",
            "The number of unique values in MachineID are 41545\n",
            "\n",
            "\n",
            "The number of missingvalues in MachineID are 0\n",
            "\n",
            "\n",
            "****************************************************************************************************\n",
            "\n",
            "\n",
            "The number of unique values in ModelID are 2529\n",
            "\n",
            "\n",
            "The number of missingvalues in ModelID are 0\n",
            "\n",
            "\n",
            "****************************************************************************************************\n",
            "\n",
            "\n",
            "The number of unique values in datasource are 2\n",
            "\n",
            "\n",
            "The number of missingvalues in datasource are 0\n",
            "\n",
            "\n",
            "****************************************************************************************************\n",
            "\n",
            "\n",
            "The number of unique values in auctioneerID are 28\n",
            "\n",
            "\n",
            "The number of missingvalues in auctioneerID are 0\n",
            "\n",
            "\n",
            "****************************************************************************************************\n",
            "\n",
            "\n",
            "The number of unique values in YearMade are 53\n",
            "\n",
            "\n",
            "The number of missingvalues in YearMade are 0\n",
            "\n",
            "\n",
            "****************************************************************************************************\n",
            "\n",
            "\n",
            "The number of unique values in MachineHoursCurrentMeter are 10242\n",
            "\n",
            "\n",
            "The number of missingvalues in MachineHoursCurrentMeter are 18380\n",
            "\n",
            "\n",
            "****************************************************************************************************\n",
            "\n",
            "\n",
            "The number of unique values in saleYear are 23\n",
            "\n",
            "\n",
            "The number of missingvalues in saleYear are 0\n",
            "\n",
            "\n",
            "****************************************************************************************************\n",
            "\n",
            "\n",
            "The number of unique values in saleMonth are 12\n",
            "\n",
            "\n",
            "The number of missingvalues in saleMonth are 0\n",
            "\n",
            "\n",
            "****************************************************************************************************\n",
            "\n",
            "\n",
            "The number of unique values in saleDay are 31\n",
            "\n",
            "\n",
            "The number of missingvalues in saleDay are 0\n",
            "\n",
            "\n",
            "****************************************************************************************************\n",
            "\n",
            "\n",
            "The number of unique values in saleWeek are 7\n",
            "\n",
            "\n",
            "The number of missingvalues in saleWeek are 0\n",
            "\n",
            "\n",
            "****************************************************************************************************\n",
            "\n",
            "\n"
          ],
          "name": "stdout"
        }
      ]
    },
    {
      "cell_type": "code",
      "metadata": {
        "id": "3UHdm_SVvzpV"
      },
      "source": [
        "df.drop([\"SalesID\" , \"MachineID\" , \"fiModelSeries\" , \"fiModelDescriptor\" , \"ProductSize\" , \"Drive_System\" , \"Pad_Type\" , \"Stick\" , \"Turbocharged\" , \"Blade_Extension\" , \"Blade_Width\" , \"Enclosure_Type\" , \"Engine_Horsepower\" , \"Pushblock\" , \"Ripper\" , \"Scarifier\" , \"Tip_Control\" , \"Tire_Size\" , \"Coupler_System\" , \"Grouser_Tracks\" , \"Hydraulics_Flow\" , \"Track_Type\" , \"Undercarriage_Pad_Width\" , \"Stick_Length\" , \"Thumb\" , \"Pattern_Changer\" , \"Grouser_Type\" , \"Backhoe_Mounting\" , \"Blade_Type\" , \"Travel_Controls\" , \"Differential_Type\" , \"Steering_Controls\"] , axis = 1 , inplace = True)"
      ],
      "execution_count": null,
      "outputs": []
    },
    {
      "cell_type": "code",
      "metadata": {
        "colab": {
          "base_uri": "https://localhost:8080/"
        },
        "id": "nwc-gVIlyXlY",
        "outputId": "cdd6f1ba-dd52-42ba-a386-a495f3408478"
      },
      "source": [
        "df.info()"
      ],
      "execution_count": null,
      "outputs": [
        {
          "output_type": "stream",
          "text": [
            "<class 'pandas.core.frame.DataFrame'>\n",
            "RangeIndex: 43308 entries, 0 to 43307\n",
            "Data columns (total 24 columns):\n",
            " #   Column                    Non-Null Count  Dtype  \n",
            "---  ------                    --------------  -----  \n",
            " 0   SalePrice                 43308 non-null  int64  \n",
            " 1   ModelID                   43308 non-null  int64  \n",
            " 2   datasource                43308 non-null  int64  \n",
            " 3   auctioneerID              43308 non-null  int64  \n",
            " 4   YearMade                  43308 non-null  int64  \n",
            " 5   MachineHoursCurrentMeter  24928 non-null  float64\n",
            " 6   UsageBand                 22002 non-null  object \n",
            " 7   fiModelDesc               43308 non-null  object \n",
            " 8   fiBaseModel               43308 non-null  object \n",
            " 9   fiSecondaryDesc           27838 non-null  object \n",
            " 10  fiProductClassDesc        43308 non-null  object \n",
            " 11  state                     43307 non-null  object \n",
            " 12  ProductGroup              43307 non-null  object \n",
            " 13  ProductGroupDesc          43307 non-null  object \n",
            " 14  Enclosure                 43289 non-null  object \n",
            " 15  Forks                     28288 non-null  object \n",
            " 16  Ride_Control              19314 non-null  object \n",
            " 17  Transmission              19582 non-null  object \n",
            " 18  Hydraulics                30443 non-null  object \n",
            " 19  Coupler                   23577 non-null  object \n",
            " 20  saleYear                  43308 non-null  int64  \n",
            " 21  saleMonth                 43308 non-null  int64  \n",
            " 22  saleDay                   43308 non-null  int64  \n",
            " 23  saleWeek                  43308 non-null  int64  \n",
            "dtypes: float64(1), int64(9), object(14)\n",
            "memory usage: 7.9+ MB\n"
          ],
          "name": "stdout"
        }
      ]
    },
    {
      "cell_type": "code",
      "metadata": {
        "colab": {
          "base_uri": "https://localhost:8080/"
        },
        "id": "J2MuUbYzystc",
        "outputId": "b4724f1a-314d-45e5-e6c0-5b21ec771130"
      },
      "source": [
        "df.isna().sum()"
      ],
      "execution_count": null,
      "outputs": [
        {
          "output_type": "execute_result",
          "data": {
            "text/plain": [
              "SalePrice                       0\n",
              "ModelID                         0\n",
              "datasource                      0\n",
              "auctioneerID                    0\n",
              "YearMade                        0\n",
              "MachineHoursCurrentMeter    18380\n",
              "UsageBand                       0\n",
              "fiModelDesc                     0\n",
              "fiBaseModel                     0\n",
              "fiSecondaryDesc                 0\n",
              "fiProductClassDesc              0\n",
              "state                           1\n",
              "ProductGroup                    1\n",
              "ProductGroupDesc                1\n",
              "Enclosure                      19\n",
              "Forks                       15020\n",
              "Ride_Control                23994\n",
              "Transmission                23726\n",
              "Hydraulics                  12865\n",
              "Coupler                     19731\n",
              "saleYear                        0\n",
              "saleMonth                       0\n",
              "saleDay                         0\n",
              "saleWeek                        0\n",
              "dtype: int64"
            ]
          },
          "metadata": {
            "tags": []
          },
          "execution_count": 58
        }
      ]
    },
    {
      "cell_type": "code",
      "metadata": {
        "colab": {
          "base_uri": "https://localhost:8080/"
        },
        "id": "lNLwjwoTy5xy",
        "outputId": "78b184ef-f9de-455a-d1a9-769e314d8962"
      },
      "source": [
        "cats = df.select_dtypes(include=\"object\").columns\n",
        "cats"
      ],
      "execution_count": null,
      "outputs": [
        {
          "output_type": "execute_result",
          "data": {
            "text/plain": [
              "Index(['UsageBand', 'fiModelDesc', 'fiBaseModel', 'fiSecondaryDesc',\n",
              "       'fiProductClassDesc', 'state', 'ProductGroup', 'ProductGroupDesc',\n",
              "       'Enclosure', 'Forks', 'Ride_Control', 'Transmission', 'Hydraulics',\n",
              "       'Coupler'],\n",
              "      dtype='object')"
            ]
          },
          "metadata": {
            "tags": []
          },
          "execution_count": 62
        }
      ]
    },
    {
      "cell_type": "code",
      "metadata": {
        "colab": {
          "base_uri": "https://localhost:8080/"
        },
        "id": "g4ekLRxmy6mX",
        "outputId": "bfd01041-4488-4f67-9bc2-1cbfbfbea1a5"
      },
      "source": [
        "ints = df.select_dtypes(exclude=\"object\").columns\n",
        "ints"
      ],
      "execution_count": null,
      "outputs": [
        {
          "output_type": "execute_result",
          "data": {
            "text/plain": [
              "Index(['SalePrice', 'ModelID', 'datasource', 'auctioneerID', 'YearMade',\n",
              "       'MachineHoursCurrentMeter', 'saleYear', 'saleMonth', 'saleDay',\n",
              "       'saleWeek'],\n",
              "      dtype='object')"
            ]
          },
          "metadata": {
            "tags": []
          },
          "execution_count": 63
        }
      ]
    },
    {
      "cell_type": "code",
      "metadata": {
        "id": "-i93rkt7yfag"
      },
      "source": [
        "for i in cats:\n",
        "  if df[i].isna().sum() != 0:\n",
        "      df[i].fillna(df[i].mode()[0] , inplace = True)"
      ],
      "execution_count": null,
      "outputs": []
    },
    {
      "cell_type": "code",
      "metadata": {
        "id": "7oj2bMnvymxn"
      },
      "source": [
        "for i in ints:\n",
        "  df[i].fillna(df[i].median() , inplace = True)"
      ],
      "execution_count": null,
      "outputs": []
    },
    {
      "cell_type": "code",
      "metadata": {
        "colab": {
          "base_uri": "https://localhost:8080/"
        },
        "id": "EeTr3l2tzM5l",
        "outputId": "7bc39afc-bdde-420f-b613-f676583de426"
      },
      "source": [
        "df.isna().sum()"
      ],
      "execution_count": null,
      "outputs": [
        {
          "output_type": "execute_result",
          "data": {
            "text/plain": [
              "SalePrice                   0\n",
              "ModelID                     0\n",
              "datasource                  0\n",
              "auctioneerID                0\n",
              "YearMade                    0\n",
              "MachineHoursCurrentMeter    0\n",
              "UsageBand                   0\n",
              "fiModelDesc                 0\n",
              "fiBaseModel                 0\n",
              "fiSecondaryDesc             0\n",
              "fiProductClassDesc          0\n",
              "state                       0\n",
              "ProductGroup                0\n",
              "ProductGroupDesc            0\n",
              "Enclosure                   0\n",
              "Forks                       0\n",
              "Ride_Control                0\n",
              "Transmission                0\n",
              "Hydraulics                  0\n",
              "Coupler                     0\n",
              "saleYear                    0\n",
              "saleMonth                   0\n",
              "saleDay                     0\n",
              "saleWeek                    0\n",
              "dtype: int64"
            ]
          },
          "metadata": {
            "tags": []
          },
          "execution_count": 66
        }
      ]
    },
    {
      "cell_type": "code",
      "metadata": {
        "id": "MzMJK5cjzOQV"
      },
      "source": [
        "df = pd.get_dummies(df , columns = cats , prefix = cats)"
      ],
      "execution_count": null,
      "outputs": []
    },
    {
      "cell_type": "code",
      "metadata": {
        "colab": {
          "base_uri": "https://localhost:8080/",
          "height": 277
        },
        "id": "YHL-CxYFzkGX",
        "outputId": "aad5c0b8-015e-4ba6-955f-6a5eba639e83"
      },
      "source": [
        "df.head()"
      ],
      "execution_count": null,
      "outputs": [
        {
          "output_type": "execute_result",
          "data": {
            "text/html": [
              "<div>\n",
              "<style scoped>\n",
              "    .dataframe tbody tr th:only-of-type {\n",
              "        vertical-align: middle;\n",
              "    }\n",
              "\n",
              "    .dataframe tbody tr th {\n",
              "        vertical-align: top;\n",
              "    }\n",
              "\n",
              "    .dataframe thead th {\n",
              "        text-align: right;\n",
              "    }\n",
              "</style>\n",
              "<table border=\"1\" class=\"dataframe\">\n",
              "  <thead>\n",
              "    <tr style=\"text-align: right;\">\n",
              "      <th></th>\n",
              "      <th>SalePrice</th>\n",
              "      <th>ModelID</th>\n",
              "      <th>datasource</th>\n",
              "      <th>auctioneerID</th>\n",
              "      <th>YearMade</th>\n",
              "      <th>MachineHoursCurrentMeter</th>\n",
              "      <th>saleYear</th>\n",
              "      <th>saleMonth</th>\n",
              "      <th>saleDay</th>\n",
              "      <th>saleWeek</th>\n",
              "      <th>UsageBand_High</th>\n",
              "      <th>UsageBand_Low</th>\n",
              "      <th>UsageBand_Medium</th>\n",
              "      <th>fiModelDesc_1080</th>\n",
              "      <th>fiModelDesc_1080B</th>\n",
              "      <th>fiModelDesc_1088</th>\n",
              "      <th>fiModelDesc_1088TTL</th>\n",
              "      <th>fiModelDesc_10C</th>\n",
              "      <th>fiModelDesc_110</th>\n",
              "      <th>fiModelDesc_1105</th>\n",
              "      <th>fiModelDesc_110TLB</th>\n",
              "      <th>fiModelDesc_110Z</th>\n",
              "      <th>fiModelDesc_110Z-2</th>\n",
              "      <th>fiModelDesc_112F</th>\n",
              "      <th>fiModelDesc_1150</th>\n",
              "      <th>fiModelDesc_1150B</th>\n",
              "      <th>fiModelDesc_1150C</th>\n",
              "      <th>fiModelDesc_1150E</th>\n",
              "      <th>fiModelDesc_1150ELT</th>\n",
              "      <th>fiModelDesc_1150G</th>\n",
              "      <th>fiModelDesc_1150GLT</th>\n",
              "      <th>fiModelDesc_1150H</th>\n",
              "      <th>fiModelDesc_1150HLGP</th>\n",
              "      <th>fiModelDesc_1150HLT</th>\n",
              "      <th>fiModelDesc_1150HWT</th>\n",
              "      <th>fiModelDesc_1150K</th>\n",
              "      <th>fiModelDesc_1150KLGPSERIES3</th>\n",
              "      <th>fiModelDesc_115ZIII</th>\n",
              "      <th>fiModelDesc_115ZIV</th>\n",
              "      <th>fiModelDesc_115ZV</th>\n",
              "      <th>...</th>\n",
              "      <th>ProductGroup_TEX</th>\n",
              "      <th>ProductGroup_TTT</th>\n",
              "      <th>ProductGroup_WL</th>\n",
              "      <th>ProductGroupDesc_Backhoe Loaders</th>\n",
              "      <th>ProductGroupDesc_Motor Graders</th>\n",
              "      <th>ProductGroupDesc_Skid Steer Loaders</th>\n",
              "      <th>ProductGroupDesc_Track Excavators</th>\n",
              "      <th>ProductGroupDesc_Track Type Tractors</th>\n",
              "      <th>ProductGroupDesc_Wheel Loader</th>\n",
              "      <th>Enclosure_EROPS</th>\n",
              "      <th>Enclosure_EROPS w AC</th>\n",
              "      <th>Enclosure_OROPS</th>\n",
              "      <th>Forks_None or Unspecified</th>\n",
              "      <th>Forks_Yes</th>\n",
              "      <th>Ride_Control_No</th>\n",
              "      <th>Ride_Control_None or Unspecified</th>\n",
              "      <th>Ride_Control_Yes</th>\n",
              "      <th>Transmission_AutoShift</th>\n",
              "      <th>Transmission_Autoshift</th>\n",
              "      <th>Transmission_Direct Drive</th>\n",
              "      <th>Transmission_Hydrostatic</th>\n",
              "      <th>Transmission_None or Unspecified</th>\n",
              "      <th>Transmission_Powershift</th>\n",
              "      <th>Transmission_Powershuttle</th>\n",
              "      <th>Transmission_Standard</th>\n",
              "      <th>Hydraulics_2 Valve</th>\n",
              "      <th>Hydraulics_3 Valve</th>\n",
              "      <th>Hydraulics_4 Valve</th>\n",
              "      <th>Hydraulics_Auxiliary</th>\n",
              "      <th>Hydraulics_Base + 1 Function</th>\n",
              "      <th>Hydraulics_Base + 2 Function</th>\n",
              "      <th>Hydraulics_Base + 3 Function</th>\n",
              "      <th>Hydraulics_Base + 4 Function</th>\n",
              "      <th>Hydraulics_Base + 5 Function</th>\n",
              "      <th>Hydraulics_Base + 6 Function</th>\n",
              "      <th>Hydraulics_None or Unspecified</th>\n",
              "      <th>Hydraulics_Standard</th>\n",
              "      <th>Coupler_Hydraulic</th>\n",
              "      <th>Coupler_Manual</th>\n",
              "      <th>Coupler_None or Unspecified</th>\n",
              "    </tr>\n",
              "  </thead>\n",
              "  <tbody>\n",
              "    <tr>\n",
              "      <th>0</th>\n",
              "      <td>66000</td>\n",
              "      <td>3157</td>\n",
              "      <td>121</td>\n",
              "      <td>3</td>\n",
              "      <td>2004</td>\n",
              "      <td>68.0</td>\n",
              "      <td>2006</td>\n",
              "      <td>11</td>\n",
              "      <td>16</td>\n",
              "      <td>3</td>\n",
              "      <td>0</td>\n",
              "      <td>1</td>\n",
              "      <td>0</td>\n",
              "      <td>0</td>\n",
              "      <td>0</td>\n",
              "      <td>0</td>\n",
              "      <td>0</td>\n",
              "      <td>0</td>\n",
              "      <td>0</td>\n",
              "      <td>0</td>\n",
              "      <td>0</td>\n",
              "      <td>0</td>\n",
              "      <td>0</td>\n",
              "      <td>0</td>\n",
              "      <td>0</td>\n",
              "      <td>0</td>\n",
              "      <td>0</td>\n",
              "      <td>0</td>\n",
              "      <td>0</td>\n",
              "      <td>0</td>\n",
              "      <td>0</td>\n",
              "      <td>0</td>\n",
              "      <td>0</td>\n",
              "      <td>0</td>\n",
              "      <td>0</td>\n",
              "      <td>0</td>\n",
              "      <td>0</td>\n",
              "      <td>0</td>\n",
              "      <td>0</td>\n",
              "      <td>0</td>\n",
              "      <td>...</td>\n",
              "      <td>0</td>\n",
              "      <td>0</td>\n",
              "      <td>1</td>\n",
              "      <td>0</td>\n",
              "      <td>0</td>\n",
              "      <td>0</td>\n",
              "      <td>0</td>\n",
              "      <td>0</td>\n",
              "      <td>1</td>\n",
              "      <td>0</td>\n",
              "      <td>1</td>\n",
              "      <td>0</td>\n",
              "      <td>1</td>\n",
              "      <td>0</td>\n",
              "      <td>0</td>\n",
              "      <td>1</td>\n",
              "      <td>0</td>\n",
              "      <td>0</td>\n",
              "      <td>0</td>\n",
              "      <td>0</td>\n",
              "      <td>0</td>\n",
              "      <td>0</td>\n",
              "      <td>0</td>\n",
              "      <td>0</td>\n",
              "      <td>1</td>\n",
              "      <td>1</td>\n",
              "      <td>0</td>\n",
              "      <td>0</td>\n",
              "      <td>0</td>\n",
              "      <td>0</td>\n",
              "      <td>0</td>\n",
              "      <td>0</td>\n",
              "      <td>0</td>\n",
              "      <td>0</td>\n",
              "      <td>0</td>\n",
              "      <td>0</td>\n",
              "      <td>0</td>\n",
              "      <td>0</td>\n",
              "      <td>0</td>\n",
              "      <td>1</td>\n",
              "    </tr>\n",
              "    <tr>\n",
              "      <th>1</th>\n",
              "      <td>57000</td>\n",
              "      <td>77</td>\n",
              "      <td>121</td>\n",
              "      <td>3</td>\n",
              "      <td>1996</td>\n",
              "      <td>4640.0</td>\n",
              "      <td>2004</td>\n",
              "      <td>3</td>\n",
              "      <td>26</td>\n",
              "      <td>4</td>\n",
              "      <td>0</td>\n",
              "      <td>1</td>\n",
              "      <td>0</td>\n",
              "      <td>0</td>\n",
              "      <td>0</td>\n",
              "      <td>0</td>\n",
              "      <td>0</td>\n",
              "      <td>0</td>\n",
              "      <td>0</td>\n",
              "      <td>0</td>\n",
              "      <td>0</td>\n",
              "      <td>0</td>\n",
              "      <td>0</td>\n",
              "      <td>0</td>\n",
              "      <td>0</td>\n",
              "      <td>0</td>\n",
              "      <td>0</td>\n",
              "      <td>0</td>\n",
              "      <td>0</td>\n",
              "      <td>0</td>\n",
              "      <td>0</td>\n",
              "      <td>0</td>\n",
              "      <td>0</td>\n",
              "      <td>0</td>\n",
              "      <td>0</td>\n",
              "      <td>0</td>\n",
              "      <td>0</td>\n",
              "      <td>0</td>\n",
              "      <td>0</td>\n",
              "      <td>0</td>\n",
              "      <td>...</td>\n",
              "      <td>0</td>\n",
              "      <td>0</td>\n",
              "      <td>1</td>\n",
              "      <td>0</td>\n",
              "      <td>0</td>\n",
              "      <td>0</td>\n",
              "      <td>0</td>\n",
              "      <td>0</td>\n",
              "      <td>1</td>\n",
              "      <td>0</td>\n",
              "      <td>1</td>\n",
              "      <td>0</td>\n",
              "      <td>1</td>\n",
              "      <td>0</td>\n",
              "      <td>0</td>\n",
              "      <td>1</td>\n",
              "      <td>0</td>\n",
              "      <td>0</td>\n",
              "      <td>0</td>\n",
              "      <td>0</td>\n",
              "      <td>0</td>\n",
              "      <td>0</td>\n",
              "      <td>0</td>\n",
              "      <td>0</td>\n",
              "      <td>1</td>\n",
              "      <td>1</td>\n",
              "      <td>0</td>\n",
              "      <td>0</td>\n",
              "      <td>0</td>\n",
              "      <td>0</td>\n",
              "      <td>0</td>\n",
              "      <td>0</td>\n",
              "      <td>0</td>\n",
              "      <td>0</td>\n",
              "      <td>0</td>\n",
              "      <td>0</td>\n",
              "      <td>0</td>\n",
              "      <td>0</td>\n",
              "      <td>0</td>\n",
              "      <td>1</td>\n",
              "    </tr>\n",
              "    <tr>\n",
              "      <th>2</th>\n",
              "      <td>10000</td>\n",
              "      <td>7009</td>\n",
              "      <td>121</td>\n",
              "      <td>3</td>\n",
              "      <td>2001</td>\n",
              "      <td>2838.0</td>\n",
              "      <td>2004</td>\n",
              "      <td>2</td>\n",
              "      <td>26</td>\n",
              "      <td>3</td>\n",
              "      <td>1</td>\n",
              "      <td>0</td>\n",
              "      <td>0</td>\n",
              "      <td>0</td>\n",
              "      <td>0</td>\n",
              "      <td>0</td>\n",
              "      <td>0</td>\n",
              "      <td>0</td>\n",
              "      <td>0</td>\n",
              "      <td>0</td>\n",
              "      <td>0</td>\n",
              "      <td>0</td>\n",
              "      <td>0</td>\n",
              "      <td>0</td>\n",
              "      <td>0</td>\n",
              "      <td>0</td>\n",
              "      <td>0</td>\n",
              "      <td>0</td>\n",
              "      <td>0</td>\n",
              "      <td>0</td>\n",
              "      <td>0</td>\n",
              "      <td>0</td>\n",
              "      <td>0</td>\n",
              "      <td>0</td>\n",
              "      <td>0</td>\n",
              "      <td>0</td>\n",
              "      <td>0</td>\n",
              "      <td>0</td>\n",
              "      <td>0</td>\n",
              "      <td>0</td>\n",
              "      <td>...</td>\n",
              "      <td>0</td>\n",
              "      <td>0</td>\n",
              "      <td>0</td>\n",
              "      <td>0</td>\n",
              "      <td>0</td>\n",
              "      <td>1</td>\n",
              "      <td>0</td>\n",
              "      <td>0</td>\n",
              "      <td>0</td>\n",
              "      <td>0</td>\n",
              "      <td>0</td>\n",
              "      <td>1</td>\n",
              "      <td>1</td>\n",
              "      <td>0</td>\n",
              "      <td>1</td>\n",
              "      <td>0</td>\n",
              "      <td>0</td>\n",
              "      <td>0</td>\n",
              "      <td>0</td>\n",
              "      <td>0</td>\n",
              "      <td>0</td>\n",
              "      <td>0</td>\n",
              "      <td>0</td>\n",
              "      <td>0</td>\n",
              "      <td>1</td>\n",
              "      <td>0</td>\n",
              "      <td>0</td>\n",
              "      <td>0</td>\n",
              "      <td>1</td>\n",
              "      <td>0</td>\n",
              "      <td>0</td>\n",
              "      <td>0</td>\n",
              "      <td>0</td>\n",
              "      <td>0</td>\n",
              "      <td>0</td>\n",
              "      <td>0</td>\n",
              "      <td>0</td>\n",
              "      <td>0</td>\n",
              "      <td>0</td>\n",
              "      <td>1</td>\n",
              "    </tr>\n",
              "    <tr>\n",
              "      <th>3</th>\n",
              "      <td>38500</td>\n",
              "      <td>332</td>\n",
              "      <td>121</td>\n",
              "      <td>3</td>\n",
              "      <td>2001</td>\n",
              "      <td>3486.0</td>\n",
              "      <td>2011</td>\n",
              "      <td>5</td>\n",
              "      <td>19</td>\n",
              "      <td>3</td>\n",
              "      <td>1</td>\n",
              "      <td>0</td>\n",
              "      <td>0</td>\n",
              "      <td>0</td>\n",
              "      <td>0</td>\n",
              "      <td>0</td>\n",
              "      <td>0</td>\n",
              "      <td>0</td>\n",
              "      <td>0</td>\n",
              "      <td>0</td>\n",
              "      <td>0</td>\n",
              "      <td>0</td>\n",
              "      <td>0</td>\n",
              "      <td>0</td>\n",
              "      <td>0</td>\n",
              "      <td>0</td>\n",
              "      <td>0</td>\n",
              "      <td>0</td>\n",
              "      <td>0</td>\n",
              "      <td>0</td>\n",
              "      <td>0</td>\n",
              "      <td>0</td>\n",
              "      <td>0</td>\n",
              "      <td>0</td>\n",
              "      <td>0</td>\n",
              "      <td>0</td>\n",
              "      <td>0</td>\n",
              "      <td>0</td>\n",
              "      <td>0</td>\n",
              "      <td>0</td>\n",
              "      <td>...</td>\n",
              "      <td>1</td>\n",
              "      <td>0</td>\n",
              "      <td>0</td>\n",
              "      <td>0</td>\n",
              "      <td>0</td>\n",
              "      <td>0</td>\n",
              "      <td>1</td>\n",
              "      <td>0</td>\n",
              "      <td>0</td>\n",
              "      <td>0</td>\n",
              "      <td>1</td>\n",
              "      <td>0</td>\n",
              "      <td>1</td>\n",
              "      <td>0</td>\n",
              "      <td>1</td>\n",
              "      <td>0</td>\n",
              "      <td>0</td>\n",
              "      <td>0</td>\n",
              "      <td>0</td>\n",
              "      <td>0</td>\n",
              "      <td>0</td>\n",
              "      <td>0</td>\n",
              "      <td>0</td>\n",
              "      <td>0</td>\n",
              "      <td>1</td>\n",
              "      <td>1</td>\n",
              "      <td>0</td>\n",
              "      <td>0</td>\n",
              "      <td>0</td>\n",
              "      <td>0</td>\n",
              "      <td>0</td>\n",
              "      <td>0</td>\n",
              "      <td>0</td>\n",
              "      <td>0</td>\n",
              "      <td>0</td>\n",
              "      <td>0</td>\n",
              "      <td>0</td>\n",
              "      <td>0</td>\n",
              "      <td>0</td>\n",
              "      <td>1</td>\n",
              "    </tr>\n",
              "    <tr>\n",
              "      <th>4</th>\n",
              "      <td>11000</td>\n",
              "      <td>17311</td>\n",
              "      <td>121</td>\n",
              "      <td>3</td>\n",
              "      <td>2007</td>\n",
              "      <td>722.0</td>\n",
              "      <td>2009</td>\n",
              "      <td>7</td>\n",
              "      <td>23</td>\n",
              "      <td>3</td>\n",
              "      <td>0</td>\n",
              "      <td>0</td>\n",
              "      <td>1</td>\n",
              "      <td>0</td>\n",
              "      <td>0</td>\n",
              "      <td>0</td>\n",
              "      <td>0</td>\n",
              "      <td>0</td>\n",
              "      <td>0</td>\n",
              "      <td>0</td>\n",
              "      <td>0</td>\n",
              "      <td>0</td>\n",
              "      <td>0</td>\n",
              "      <td>0</td>\n",
              "      <td>0</td>\n",
              "      <td>0</td>\n",
              "      <td>0</td>\n",
              "      <td>0</td>\n",
              "      <td>0</td>\n",
              "      <td>0</td>\n",
              "      <td>0</td>\n",
              "      <td>0</td>\n",
              "      <td>0</td>\n",
              "      <td>0</td>\n",
              "      <td>0</td>\n",
              "      <td>0</td>\n",
              "      <td>0</td>\n",
              "      <td>0</td>\n",
              "      <td>0</td>\n",
              "      <td>0</td>\n",
              "      <td>...</td>\n",
              "      <td>0</td>\n",
              "      <td>0</td>\n",
              "      <td>0</td>\n",
              "      <td>0</td>\n",
              "      <td>0</td>\n",
              "      <td>1</td>\n",
              "      <td>0</td>\n",
              "      <td>0</td>\n",
              "      <td>0</td>\n",
              "      <td>1</td>\n",
              "      <td>0</td>\n",
              "      <td>0</td>\n",
              "      <td>1</td>\n",
              "      <td>0</td>\n",
              "      <td>1</td>\n",
              "      <td>0</td>\n",
              "      <td>0</td>\n",
              "      <td>0</td>\n",
              "      <td>0</td>\n",
              "      <td>0</td>\n",
              "      <td>0</td>\n",
              "      <td>0</td>\n",
              "      <td>0</td>\n",
              "      <td>0</td>\n",
              "      <td>1</td>\n",
              "      <td>0</td>\n",
              "      <td>0</td>\n",
              "      <td>0</td>\n",
              "      <td>1</td>\n",
              "      <td>0</td>\n",
              "      <td>0</td>\n",
              "      <td>0</td>\n",
              "      <td>0</td>\n",
              "      <td>0</td>\n",
              "      <td>0</td>\n",
              "      <td>0</td>\n",
              "      <td>0</td>\n",
              "      <td>0</td>\n",
              "      <td>0</td>\n",
              "      <td>1</td>\n",
              "    </tr>\n",
              "  </tbody>\n",
              "</table>\n",
              "<p>5 rows × 3819 columns</p>\n",
              "</div>"
            ],
            "text/plain": [
              "   SalePrice  ModelID  ...  Coupler_Manual  Coupler_None or Unspecified\n",
              "0      66000     3157  ...               0                            1\n",
              "1      57000       77  ...               0                            1\n",
              "2      10000     7009  ...               0                            1\n",
              "3      38500      332  ...               0                            1\n",
              "4      11000    17311  ...               0                            1\n",
              "\n",
              "[5 rows x 3819 columns]"
            ]
          },
          "metadata": {
            "tags": []
          },
          "execution_count": 68
        }
      ]
    },
    {
      "cell_type": "code",
      "metadata": {
        "id": "5OeaDq3RzlE4"
      },
      "source": [
        "X = df.drop([\"SalePrice\"] , axis = 1)\n",
        "y = df[\"SalePrice\"]"
      ],
      "execution_count": null,
      "outputs": []
    },
    {
      "cell_type": "code",
      "metadata": {
        "colab": {
          "base_uri": "https://localhost:8080/"
        },
        "id": "MqcIc4AYz2Up",
        "outputId": "932cf22b-2d51-423d-cb22-00234baacf5a"
      },
      "source": [
        "from sklearn.model_selection import train_test_split\n",
        "X_train , X_test , y_train , y_test = train_test_split(X , y , test_size = 0.1 , random_state = 42)\n",
        "len(X_train) , len(X_test) , len(y_train) , len(y_test)"
      ],
      "execution_count": null,
      "outputs": [
        {
          "output_type": "execute_result",
          "data": {
            "text/plain": [
              "(38977, 4331, 38977, 4331)"
            ]
          },
          "metadata": {
            "tags": []
          },
          "execution_count": 70
        }
      ]
    },
    {
      "cell_type": "code",
      "metadata": {
        "colab": {
          "base_uri": "https://localhost:8080/"
        },
        "id": "8GtcdepP0Vow",
        "outputId": "88e828b3-61b7-43e1-a373-390784821782"
      },
      "source": [
        "ints = ints.to_list()\n",
        "ints"
      ],
      "execution_count": null,
      "outputs": [
        {
          "output_type": "execute_result",
          "data": {
            "text/plain": [
              "['SalePrice',\n",
              " 'ModelID',\n",
              " 'datasource',\n",
              " 'auctioneerID',\n",
              " 'YearMade',\n",
              " 'MachineHoursCurrentMeter',\n",
              " 'saleYear',\n",
              " 'saleMonth',\n",
              " 'saleDay',\n",
              " 'saleWeek']"
            ]
          },
          "metadata": {
            "tags": []
          },
          "execution_count": 77
        }
      ]
    },
    {
      "cell_type": "code",
      "metadata": {
        "colab": {
          "base_uri": "https://localhost:8080/"
        },
        "id": "zAZIBP9G0fIs",
        "outputId": "1c048f9b-2e86-460e-e548-eb0a6391b3a5"
      },
      "source": [
        "ints.pop(0)\n",
        "ints"
      ],
      "execution_count": null,
      "outputs": [
        {
          "output_type": "execute_result",
          "data": {
            "text/plain": [
              "['ModelID',\n",
              " 'datasource',\n",
              " 'auctioneerID',\n",
              " 'YearMade',\n",
              " 'MachineHoursCurrentMeter',\n",
              " 'saleYear',\n",
              " 'saleMonth',\n",
              " 'saleDay',\n",
              " 'saleWeek']"
            ]
          },
          "metadata": {
            "tags": []
          },
          "execution_count": 78
        }
      ]
    },
    {
      "cell_type": "code",
      "metadata": {
        "id": "3vBWO0E9z5WL"
      },
      "source": [
        "from sklearn.preprocessing import StandardScaler\n",
        "scaler = StandardScaler()\n",
        "scaler.fit(X_train[ints])\n",
        "X_train[ints] = scaler.transform(X_train[ints])\n",
        "X_test[ints] = scaler.transform(X_test[ints])"
      ],
      "execution_count": null,
      "outputs": []
    },
    {
      "cell_type": "code",
      "metadata": {
        "colab": {
          "base_uri": "https://localhost:8080/"
        },
        "id": "ihszNbgA02J0",
        "outputId": "febca052-8028-42ee-8947-85bb087797c8"
      },
      "source": [
        "from sklearn.linear_model import LinearRegression\n",
        "linear = LinearRegression()   \n",
        "linear.fit(X_train , y_train)"
      ],
      "execution_count": null,
      "outputs": [
        {
          "output_type": "execute_result",
          "data": {
            "text/plain": [
              "LinearRegression(copy_X=True, fit_intercept=True, n_jobs=None, normalize=False)"
            ]
          },
          "metadata": {
            "tags": []
          },
          "execution_count": 82
        }
      ]
    },
    {
      "cell_type": "code",
      "metadata": {
        "colab": {
          "base_uri": "https://localhost:8080/"
        },
        "id": "k4QY51M1060D",
        "outputId": "eb1a34f4-0893-4ab4-e7db-d54d1e5bc351"
      },
      "source": [
        "linear.score(X_train , y_train)"
      ],
      "execution_count": null,
      "outputs": [
        {
          "output_type": "execute_result",
          "data": {
            "text/plain": [
              "0.8622609225314237"
            ]
          },
          "metadata": {
            "tags": []
          },
          "execution_count": 83
        }
      ]
    },
    {
      "cell_type": "code",
      "metadata": {
        "colab": {
          "base_uri": "https://localhost:8080/"
        },
        "id": "5ZiGbcKO09Rc",
        "outputId": "a838cba2-6f80-43d8-e43d-19ea1c35b9e4"
      },
      "source": [
        "linear.score(X_test , y_test)"
      ],
      "execution_count": null,
      "outputs": [
        {
          "output_type": "execute_result",
          "data": {
            "text/plain": [
              "-2.5801461875919044e+16"
            ]
          },
          "metadata": {
            "tags": []
          },
          "execution_count": 84
        }
      ]
    },
    {
      "cell_type": "code",
      "metadata": {
        "colab": {
          "base_uri": "https://localhost:8080/"
        },
        "id": "nRpbwJ7K6tS8",
        "outputId": "8474ab53-eb90-4957-bc38-84bf928e924e"
      },
      "source": [
        "linear_preds = linear.predict(X_test)\n",
        "linear_preds"
      ],
      "execution_count": null,
      "outputs": [
        {
          "output_type": "execute_result",
          "data": {
            "text/plain": [
              "array([38814.8125, 55014.1875,  5335.1875, ..., 12723.4375, 76043.6875,\n",
              "       56705.8125])"
            ]
          },
          "metadata": {
            "tags": []
          },
          "execution_count": 99
        }
      ]
    },
    {
      "cell_type": "code",
      "metadata": {
        "colab": {
          "base_uri": "https://localhost:8080/",
          "height": 276
        },
        "id": "RKvK-f4j6tPU",
        "outputId": "8d498f3e-b7d7-4449-b81d-6af96bb82910"
      },
      "source": [
        "plt.scatter(y_test , linear_preds)\n",
        "x = np.linspace(min(y_test),max(y_test),100)\n",
        "y = x\n",
        "plt.plot(x, y , \"-r\");"
      ],
      "execution_count": null,
      "outputs": [
        {
          "output_type": "display_data",
          "data": {
            "image/png": "[encoded data removed]",
            "text/plain": [
              "<Figure size 432x288 with 1 Axes>"
            ]
          },
          "metadata": {
            "tags": [],
            "needs_background": "light"
          }
        }
      ]
    },
    {
      "cell_type": "code",
      "metadata": {
        "colab": {
          "base_uri": "https://localhost:8080/"
        },
        "id": "lAFaLTkS0_Yc",
        "outputId": "5f2a1d98-cebb-4539-ef71-94f0adbd8d31"
      },
      "source": [
        "from sklearn.ensemble import RandomForestRegressor\n",
        "random = RandomForestRegressor(random_state = 42)\n",
        "random.fit(X_train , y_train)"
      ],
      "execution_count": null,
      "outputs": [
        {
          "output_type": "execute_result",
          "data": {
            "text/plain": [
              "RandomForestRegressor(bootstrap=True, ccp_alpha=0.0, criterion='mse',\n",
              "                      max_depth=None, max_features='auto', max_leaf_nodes=None,\n",
              "                      max_samples=None, min_impurity_decrease=0.0,\n",
              "                      min_impurity_split=None, min_samples_leaf=1,\n",
              "                      min_samples_split=2, min_weight_fraction_leaf=0.0,\n",
              "                      n_estimators=100, n_jobs=None, oob_score=False,\n",
              "                      random_state=42, verbose=0, warm_start=False)"
            ]
          },
          "metadata": {
            "tags": []
          },
          "execution_count": 85
        }
      ]
    },
    {
      "cell_type": "code",
      "metadata": {
        "colab": {
          "base_uri": "https://localhost:8080/"
        },
        "id": "ZnXBWPqm1Rmx",
        "outputId": "6a2b1be6-6a37-4bcf-c2ea-973da5b7e2e8"
      },
      "source": [
        "random.score(X_train , y_train)"
      ],
      "execution_count": null,
      "outputs": [
        {
          "output_type": "execute_result",
          "data": {
            "text/plain": [
              "0.9848747469557555"
            ]
          },
          "metadata": {
            "tags": []
          },
          "execution_count": 86
        }
      ]
    },
    {
      "cell_type": "code",
      "metadata": {
        "colab": {
          "base_uri": "https://localhost:8080/"
        },
        "id": "93Z2aj3n1TZv",
        "outputId": "93fa1f4e-2767-41b4-ff68-8a5eed678095"
      },
      "source": [
        "random.score(X_test , y_test)"
      ],
      "execution_count": null,
      "outputs": [
        {
          "output_type": "execute_result",
          "data": {
            "text/plain": [
              "0.8834742367662002"
            ]
          },
          "metadata": {
            "tags": []
          },
          "execution_count": 87
        }
      ]
    },
    {
      "cell_type": "code",
      "metadata": {
        "colab": {
          "base_uri": "https://localhost:8080/"
        },
        "id": "XPRTSg7V5fWZ",
        "outputId": "53008e0c-624d-4489-e74a-1707b49f7bb6"
      },
      "source": [
        "random_preds = random.predict(X_test)\n",
        "random_preds"
      ],
      "execution_count": null,
      "outputs": [
        {
          "output_type": "execute_result",
          "data": {
            "text/plain": [
              "array([29110. , 39815. ,  6324.5, ..., 10960. , 58805. , 55365. ])"
            ]
          },
          "metadata": {
            "tags": []
          },
          "execution_count": 95
        }
      ]
    },
    {
      "cell_type": "code",
      "metadata": {
        "colab": {
          "base_uri": "https://localhost:8080/",
          "height": 265
        },
        "id": "b9jWkptW5fTL",
        "outputId": "09566dfa-3488-4aae-8890-4d7ae245c5f0"
      },
      "source": [
        "plt.scatter(y_test , random_preds)\n",
        "x = np.linspace(min(y_test),max(y_test),100)\n",
        "y = x\n",
        "plt.plot(x, y , \"-r\");"
      ],
      "execution_count": null,
      "outputs": [
        {
          "output_type": "display_data",
          "data": {
            "image/png": "[encoded data removed]",
            "text/plain": [
              "<Figure size 432x288 with 1 Axes>"
            ]
          },
          "metadata": {
            "tags": [],
            "needs_background": "light"
          }
        }
      ]
    },
    {
      "cell_type": "code",
      "metadata": {
        "colab": {
          "base_uri": "https://localhost:8080/"
        },
        "id": "3KE06ToW5qjJ",
        "outputId": "cb10414a-2528-40fb-ee3f-cf4797516a9f"
      },
      "source": [
        "random.feature_importances_"
      ],
      "execution_count": null,
      "outputs": [
        {
          "output_type": "execute_result",
          "data": {
            "text/plain": [
              "array([0.03244221, 0.00053297, 0.00200619, ..., 0.00059207, 0.0004126 ,\n",
              "       0.00070921])"
            ]
          },
          "metadata": {
            "tags": []
          },
          "execution_count": 92
        }
      ]
    },
    {
      "cell_type": "code",
      "metadata": {
        "colab": {
          "base_uri": "https://localhost:8080/"
        },
        "id": "_YYE8Yf06tMR",
        "outputId": "3c467b2e-68e6-42f1-dff3-62d0891a20fd"
      },
      "source": [
        "score = sklearn.metrics.mean_squared_log_error(y_test , random_preds)\n",
        "score"
      ],
      "execution_count": null,
      "outputs": [
        {
          "output_type": "execute_result",
          "data": {
            "text/plain": [
              "0.052071370008372926"
            ]
          },
          "metadata": {
            "tags": []
          },
          "execution_count": 112
        }
      ]
    },
    {
      "cell_type": "code",
      "metadata": {
        "colab": {
          "base_uri": "https://localhost:8080/"
        },
        "id": "XecONf7b4rBx",
        "outputId": "79501772-05ac-431e-a256-dc355b8237c4"
      },
      "source": [
        "from xgboost import XGBRegressor\n",
        "xgb = XGBRegressor()\n",
        "xgb.fit(X_train , y_train)"
      ],
      "execution_count": null,
      "outputs": [
        {
          "output_type": "stream",
          "text": [
            "[18:44:42] WARNING: /workspace/src/objective/regression_obj.cu:152: reg:linear is now deprecated in favor of reg:squarederror.\n"
          ],
          "name": "stdout"
        },
        {
          "output_type": "execute_result",
          "data": {
            "text/plain": [
              "XGBRegressor(base_score=0.5, booster='gbtree', colsample_bylevel=1,\n",
              "             colsample_bynode=1, colsample_bytree=1, gamma=0,\n",
              "             importance_type='gain', learning_rate=0.1, max_delta_step=0,\n",
              "             max_depth=3, min_child_weight=1, missing=None, n_estimators=100,\n",
              "             n_jobs=1, nthread=None, objective='reg:linear', random_state=0,\n",
              "             reg_alpha=0, reg_lambda=1, scale_pos_weight=1, seed=None,\n",
              "             silent=None, subsample=1, verbosity=1)"
            ]
          },
          "metadata": {
            "tags": []
          },
          "execution_count": 89
        }
      ]
    },
    {
      "cell_type": "code",
      "metadata": {
        "colab": {
          "base_uri": "https://localhost:8080/"
        },
        "id": "Lb6oVsaJ5TNu",
        "outputId": "432db6df-a74b-42df-b0f5-879fbb0467aa"
      },
      "source": [
        "xgb.score(X_train , y_train)"
      ],
      "execution_count": null,
      "outputs": [
        {
          "output_type": "execute_result",
          "data": {
            "text/plain": [
              "0.7773367884538143"
            ]
          },
          "metadata": {
            "tags": []
          },
          "execution_count": 90
        }
      ]
    },
    {
      "cell_type": "code",
      "metadata": {
        "colab": {
          "base_uri": "https://localhost:8080/"
        },
        "id": "BL9HgLCE5Xqy",
        "outputId": "13880d8c-46ef-430d-8bb7-f907d63e9921"
      },
      "source": [
        "xgb.score(X_test , y_test)"
      ],
      "execution_count": null,
      "outputs": [
        {
          "output_type": "execute_result",
          "data": {
            "text/plain": [
              "0.747967544520401"
            ]
          },
          "metadata": {
            "tags": []
          },
          "execution_count": 91
        }
      ]
    },
    {
      "cell_type": "code",
      "metadata": {
        "colab": {
          "base_uri": "https://localhost:8080/"
        },
        "id": "2cLBbRjX5fQP",
        "outputId": "8e466c74-ad3b-43e2-ed29-3057e530676a"
      },
      "source": [
        "xgb_preds = xgb.predict(X_test)\n",
        "xgb_preds"
      ],
      "execution_count": null,
      "outputs": [
        {
          "output_type": "execute_result",
          "data": {
            "text/plain": [
              "array([29009.441, 43655.96 , 10679.016, ..., 15449.519, 55715.234,\n",
              "       59360.17 ], dtype=float32)"
            ]
          },
          "metadata": {
            "tags": []
          },
          "execution_count": 97
        }
      ]
    },
    {
      "cell_type": "code",
      "metadata": {
        "colab": {
          "base_uri": "https://localhost:8080/",
          "height": 265
        },
        "id": "hsHopNwm5fNp",
        "outputId": "38aa9047-8cfa-4a2e-bc59-2b57fe89c4c5"
      },
      "source": [
        "plt.scatter(y_test , xgb_preds)\n",
        "x = np.linspace(min(y_test),max(y_test),100)\n",
        "y = x\n",
        "plt.plot(x, y , \"-r\");"
      ],
      "execution_count": null,
      "outputs": [
        {
          "output_type": "display_data",
          "data": {
            "image/png": "[encoded data removed]",
            "text/plain": [
              "<Figure size 432x288 with 1 Axes>"
            ]
          },
          "metadata": {
            "tags": [],
            "needs_background": "light"
          }
        }
      ]
    },
    {
      "cell_type": "code",
      "metadata": {
        "colab": {
          "base_uri": "https://localhost:8080/"
        },
        "id": "xzGXseCeDYCt",
        "outputId": "8ed93c36-1e20-49c4-8675-09a9cb66cdaa"
      },
      "source": [
        "score = sklearn.metrics.mean_squared_log_error(y_test , xgb_preds)\n",
        "score"
      ],
      "execution_count": null,
      "outputs": [
        {
          "output_type": "execute_result",
          "data": {
            "text/plain": [
              "0.1280199626465809"
            ]
          },
          "metadata": {
            "tags": []
          },
          "execution_count": 134
        }
      ]
    },
    {
      "cell_type": "markdown",
      "metadata": {
        "id": "YsBFVp2Dvf0d"
      },
      "source": [
        "## Best model out of above is Randomforest regressor model"
      ]
    }
  ]
}